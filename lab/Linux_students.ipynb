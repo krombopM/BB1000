{
 "cells": [
  {
   "cell_type": "markdown",
   "metadata": {},
   "source": [
    "Before you turn this problem in, make sure everything runs as expected. First, **restart the kernel** (in the menubar, select Kernel$\\rightarrow$Restart) and then **run all cells** (in the menubar, select Cell$\\rightarrow$Run All).\n",
    "\n",
    "Make sure you fill in any place that says `YOUR CODE HERE` or \"YOUR ANSWER HERE\", as well as your name and collaborators below:"
   ]
  },
  {
   "cell_type": "code",
   "execution_count": null,
   "metadata": {},
   "outputs": [],
   "source": [
    "NAME = \"Isac Ingfeldt\"\n",
    "COLLABORATORS = \"None\""
   ]
  },
  {
   "cell_type": "markdown",
   "metadata": {},
   "source": [
    "---"
   ]
  },
  {
   "cell_type": "markdown",
   "metadata": {
    "deletable": false,
    "editable": false,
    "nbgrader": {
     "checksum": "597f7c4a5042e5afd0921fefec1f3cd1",
     "grade": false,
     "grade_id": "cell-529459ba9b7bc07b",
     "locked": true,
     "schema_version": 1.0,
     "solution": false
    }
   },
   "source": [
    "### Linux & bash\n",
    "\n",
    "In this exercise, we focus upon the most important linux and bash commands. However, a whole new universe is out there - the reader is advised to discover more about this virtual environment on his/her own initiative.  \n",
    "\n",
    "In order to facilitate the exercises of today, let us first prepare some files, which will be used later on to train the concepts and commands discussed in the lecture. Simply execute the next block by using shift+enter."
   ]
  },
  {
   "cell_type": "code",
   "execution_count": null,
   "metadata": {
    "deletable": false,
    "editable": false,
    "nbgrader": {
     "checksum": "3fc86c2fce61a955987c5132178b2e3d",
     "grade": false,
     "grade_id": "cell-8dc5700d7453f645",
     "locked": true,
     "schema_version": 1.0,
     "solution": false
    }
   },
   "outputs": [],
   "source": [
    "%%bash\n",
    "echo '2 wild boars' > breakfast_obelix\n",
    "echo '1 duck' >> breakfast_obelix\n",
    "echo '2 kg potatoes' >> breakfast_obelix\n",
    "echo 'print(\"I am the emperor of Rome\")' > caesar"
   ]
  },
  {
   "cell_type": "markdown",
   "metadata": {
    "deletable": false,
    "editable": false,
    "nbgrader": {
     "checksum": "b7304aca32940cec5e4b784a7f4b2ec0",
     "grade": false,
     "grade_id": "cell-aa6025f35dbdba78",
     "locked": true,
     "schema_version": 1.0,
     "solution": false
    }
   },
   "source": [
    "Let us now start the exercise. \n",
    "\n",
    "In each block in Jupyter, the initial line %%bash has to be written: it tells the operating system that the lines to follow will be interpreted as bash commands. Since all blocks are technically independent from each other, it is important to write this command each time explicitly.\n",
    "\n",
    "Check where you are in the file system at this moment. List all files. "
   ]
  },
  {
   "cell_type": "code",
   "execution_count": null,
   "metadata": {
    "deletable": false,
    "nbgrader": {
     "checksum": "6a23015de3905e3196ee496630104852",
     "grade": false,
     "grade_id": "cell-db71c50869567568",
     "locked": false,
     "schema_version": 1.0,
     "solution": true
    }
   },
   "outputs": [],
   "source": [
    "%%bash\n",
    "# YOUR CODE HERE\n",
    "pdw\n",
    "ls"
   ]
  },
  {
   "cell_type": "markdown",
   "metadata": {
    "deletable": false,
    "editable": false,
    "nbgrader": {
     "checksum": "531c0123b579d518f2528d795ee75505",
     "grade": false,
     "grade_id": "cell-33cf36274c5c7cff",
     "locked": true,
     "schema_version": 1.0,
     "solution": false
    }
   },
   "source": [
    "Make an architecture based upon 3 folders ('asterix', 'obelix', 'romans'). Inside the folder 'asterix', create an empty file 'breakfast'. Inside the folder 'obelix', create a directory 'latraviata'. Move the file 'breakfast_obelix' to the folder 'obelix'."
   ]
  },
  {
   "cell_type": "code",
   "execution_count": null,
   "metadata": {
    "deletable": false,
    "nbgrader": {
     "checksum": "942ca162c89b71baa8f34a055d8d542a",
     "grade": false,
     "grade_id": "cell-f15ded1957c3b1f4",
     "locked": false,
     "schema_version": 1.0,
     "solution": true
    }
   },
   "outputs": [],
   "source": [
    "%%bash\n",
    "# YOUR CODE HERE\n",
    "mkdir asterix\n",
    "mkdir obelix\n",
    "mkdir romans\n",
    "\n",
    "cd asterix\n",
    "touch breakfast\n",
    "cd ..\n",
    "\n",
    "cd obelix\n",
    "touch latraviata\n",
    "\n",
    "mv breakfast_obelix obelix/breakfast_obelix"
   ]
  },
  {
   "cell_type": "code",
   "execution_count": null,
   "metadata": {
    "deletable": false,
    "editable": false,
    "nbgrader": {
     "checksum": "c6961989d313afd4473ea0bfe8bdfe8f",
     "grade": true,
     "grade_id": "cell-e0d969346040a77d",
     "locked": true,
     "points": 0.0,
     "schema_version": 1.0,
     "solution": false
    }
   },
   "outputs": [],
   "source": [
    "import os.path\n",
    "assert os.path.isdir('asterix')\n",
    "assert os.path.isdir('obelix')\n",
    "assert os.path.isdir('romans')\n",
    "assert os.path.isdir('obelix/latraviata')\n",
    "assert os.path.isfile('obelix/breakfast_obelix')\n",
    "assert os.path.isfile('asterix/breakfast')"
   ]
  },
  {
   "cell_type": "markdown",
   "metadata": {
    "deletable": false,
    "editable": false,
    "nbgrader": {
     "checksum": "9928bf46210c807b45c25309e657f769",
     "grade": false,
     "grade_id": "cell-7b19c8deee651b28",
     "locked": true,
     "schema_version": 1.0,
     "solution": false
    }
   },
   "source": [
    "Inside the folder 'obelix', move 'breakfast_obelix' to 'latraviata' and change the name of the file 'breakfast_obelix' into 'middag_with_family'. Move now the folder 'latraviata' from 'obelix' to 'asterix'."
   ]
  },
  {
   "cell_type": "code",
   "execution_count": null,
   "metadata": {
    "deletable": false,
    "nbgrader": {
     "checksum": "1420f0ade723d929144ae309d407590a",
     "grade": false,
     "grade_id": "cell-0d9b30453d6c1694",
     "locked": false,
     "schema_version": 1.0,
     "solution": true
    }
   },
   "outputs": [],
   "source": [
    "%%bash\n",
    "# YOUR CODE HERE\n",
    "cd obelix\n"
   ]
  },
  {
   "cell_type": "code",
   "execution_count": null,
   "metadata": {
    "deletable": false,
    "editable": false,
    "nbgrader": {
     "checksum": "54861c754db4e2e022c89a24e133a343",
     "grade": true,
     "grade_id": "cell-a5819be950b09a04",
     "locked": true,
     "points": 0.0,
     "schema_version": 1.0,
     "solution": false
    }
   },
   "outputs": [],
   "source": [
    "import os.path\n",
    "assert os.path.isdir('asterix/latraviata')\n",
    "assert os.path.isfile('asterix/latraviata/middag_with_family')"
   ]
  },
  {
   "cell_type": "markdown",
   "metadata": {
    "deletable": false,
    "editable": false,
    "nbgrader": {
     "checksum": "0465e450ae614f23dbb3d600a45164ab",
     "grade": false,
     "grade_id": "cell-8da1e1d1c7e20171",
     "locked": true,
     "schema_version": 1.0,
     "solution": false
    }
   },
   "source": [
    "Make a tree to verify where you are now in the architecture of the files. Remove the directory 'romans' and remove the file breakfast in 'asterix'."
   ]
  },
  {
   "cell_type": "code",
   "execution_count": null,
   "metadata": {
    "deletable": false,
    "nbgrader": {
     "checksum": "5d922396afc2c4e6a372ad9190ebeb15",
     "grade": false,
     "grade_id": "cell-1672cfbb11914e59",
     "locked": false,
     "schema_version": 1.0,
     "solution": true
    }
   },
   "outputs": [],
   "source": [
    "%%bash\n",
    "# YOUR CODE HERE"
   ]
  },
  {
   "cell_type": "code",
   "execution_count": null,
   "metadata": {
    "deletable": false,
    "editable": false,
    "nbgrader": {
     "checksum": "a333dc863b539787d59a8d2448abb420",
     "grade": true,
     "grade_id": "cell-ff17c5fa65d00d5d",
     "locked": true,
     "points": 0.0,
     "schema_version": 1.0,
     "solution": false
    }
   },
   "outputs": [],
   "source": [
    "import os.path\n",
    "para=False\n",
    "if not os.path.isfile('asterix/breakfast'):\n",
    "    para=True\n",
    "assert para==True"
   ]
  },
  {
   "cell_type": "markdown",
   "metadata": {
    "deletable": false,
    "editable": false,
    "nbgrader": {
     "checksum": "72f48a942c349e07a1c1c697f7fd6857",
     "grade": false,
     "grade_id": "cell-532753aab1ec112b",
     "locked": true,
     "schema_version": 1.0,
     "solution": false
    }
   },
   "source": [
    "Copy the file 'asterix/latraviata/middag_with_family' to 'obelix' and call it again 'breakfast'. Use 'grep' to find out how many wild boars were included in 'breakfast'. "
   ]
  },
  {
   "cell_type": "code",
   "execution_count": null,
   "metadata": {
    "deletable": false,
    "nbgrader": {
     "checksum": "3bac0fa2b4007e6dbce93edb1a2d45a1",
     "grade": false,
     "grade_id": "cell-382595e252ed681d",
     "locked": false,
     "schema_version": 1.0,
     "solution": true
    }
   },
   "outputs": [],
   "source": [
    "%%bash\n",
    "# YOUR CODE HERE"
   ]
  },
  {
   "cell_type": "code",
   "execution_count": null,
   "metadata": {
    "deletable": false,
    "editable": false,
    "nbgrader": {
     "checksum": "586f3776cc48b799574be5f4f14f9032",
     "grade": true,
     "grade_id": "cell-2d90598e190d6a49",
     "locked": true,
     "points": 0.0,
     "schema_version": 1.0,
     "solution": false
    }
   },
   "outputs": [],
   "source": [
    "import os.path\n",
    "assert os.path.isfile('obelix/breakfast')"
   ]
  },
  {
   "cell_type": "markdown",
   "metadata": {
    "deletable": false,
    "editable": false,
    "nbgrader": {
     "checksum": "c57796e1736d85f6a61fc051cce26a23",
     "grade": false,
     "grade_id": "cell-1fb9cc5ac20a27da",
     "locked": true,
     "schema_version": 1.0,
     "solution": false
    }
   },
   "source": [
    "Inside the folder 'obelix', create a folder 'idefix' and inside 'idefix' create the empty files 'pup1', 'pup2' and 'pup3'. Go to the folder of obelix and show the time in which the content of this folder (being the folder 'idefix' and the file 'breakfast') has been made. Navigate finally one folder higher and use the keyword 'find' to search where 'pup1' is located."
   ]
  },
  {
   "cell_type": "code",
   "execution_count": null,
   "metadata": {
    "deletable": false,
    "nbgrader": {
     "checksum": "016ff1d44590338aca82de81f3627b45",
     "grade": false,
     "grade_id": "cell-e2929ef5e2e1aa0e",
     "locked": false,
     "schema_version": 1.0,
     "solution": true
    }
   },
   "outputs": [],
   "source": [
    "%%bash\n",
    "# YOUR CODE HERE"
   ]
  },
  {
   "cell_type": "code",
   "execution_count": null,
   "metadata": {
    "deletable": false,
    "editable": false,
    "nbgrader": {
     "checksum": "4e85f795ed1a9bf81ab992ef0f39eb61",
     "grade": true,
     "grade_id": "cell-4215aa1773e6106f",
     "locked": true,
     "points": 0.0,
     "schema_version": 1.0,
     "solution": false
    }
   },
   "outputs": [],
   "source": [
    "import os.path\n",
    "assert os.path.isdir('obelix/idefix')\n",
    "assert os.path.isfile('obelix/idefix/pup1')\n",
    "assert os.path.isfile('obelix/idefix/pup2')\n",
    "assert os.path.isfile('obelix/idefix/pup3')"
   ]
  },
  {
   "cell_type": "markdown",
   "metadata": {
    "deletable": false,
    "editable": false,
    "nbgrader": {
     "checksum": "aa4625bc24d47553d348ed9acb81aba5",
     "grade": false,
     "grade_id": "cell-2e13e88db9497017",
     "locked": true,
     "schema_version": 1.0,
     "solution": false
    }
   },
   "source": [
    "The file 'caesar' is in fact a text file, which contains python code. Show the content of the file. Run the program using python3."
   ]
  },
  {
   "cell_type": "code",
   "execution_count": null,
   "metadata": {
    "deletable": false,
    "nbgrader": {
     "checksum": "9c5bc83e008b0ed83c02289db5e3e23d",
     "grade": false,
     "grade_id": "cell-40da915435f48a13",
     "locked": false,
     "schema_version": 1.0,
     "solution": true
    }
   },
   "outputs": [],
   "source": [
    "%%bash\n",
    "# YOUR CODE HERE"
   ]
  },
  {
   "cell_type": "code",
   "execution_count": null,
   "metadata": {},
   "outputs": [],
   "source": []
  }
 ],
 "metadata": {
  "kernelspec": {
   "display_name": "Python 3",
   "language": "python",
   "name": "python3"
  },
  "language_info": {
   "codemirror_mode": {
    "name": "ipython",
    "version": 3
   },
   "file_extension": ".py",
   "mimetype": "text/x-python",
   "name": "python",
   "nbconvert_exporter": "python",
   "pygments_lexer": "ipython3",
   "version": "3.6.4"
  }
 },
 "nbformat": 4,
 "nbformat_minor": 2
}
