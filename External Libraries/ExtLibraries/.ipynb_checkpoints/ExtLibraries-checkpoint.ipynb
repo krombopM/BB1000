{
 "cells": [
  {
   "cell_type": "markdown",
   "metadata": {},
   "source": [
    "Before you turn this problem in, make sure everything runs as expected. First, **restart the kernel** (in the menubar, select Kernel$\\rightarrow$Restart) and then **run all cells** (in the menubar, select Cell$\\rightarrow$Run All).\n",
    "\n",
    "Make sure you fill in any place that says `YOUR CODE HERE` or \"YOUR ANSWER HERE\", as well as your name and collaborators below:"
   ]
  },
  {
   "cell_type": "code",
   "execution_count": null,
   "metadata": {},
   "outputs": [],
   "source": [
    "NAME = \"Isac Ingfeldt\"\n",
    "COLLABORATORS = \"\""
   ]
  },
  {
   "cell_type": "markdown",
   "metadata": {},
   "source": [
    "---"
   ]
  },
  {
   "cell_type": "markdown",
   "metadata": {
    "deletable": false,
    "editable": false,
    "nbgrader": {
     "checksum": "4e634490f2005625cf914e76b6999d3d",
     "grade": false,
     "grade_id": "cell-a0d72d206b11efc5",
     "locked": true,
     "schema_version": 1,
     "solution": false
    }
   },
   "source": [
    "# Welcome to ExtLibraries!\n",
    "\n",
    "For these exercises, please make sure that you install the libraries before starting jupyter notebook. If you installed jupyter in a separate virtual environment these libraries have to be installed in the same virtual environment so don't forget to activate that first, e.g.\n",
    "\n",
    "```linux\n",
    "$ source ~/venv/bin/activate\n",
    "(venv) $ pip install pandas\n",
    "(venv) $ pip install matplotlib\n",
    "```"
   ]
  },
  {
   "cell_type": "markdown",
   "metadata": {
    "deletable": false,
    "editable": false,
    "nbgrader": {
     "checksum": "6d4df7b0c86e3e2b0cdc6fcb6a18b3ee",
     "grade": false,
     "grade_id": "cell-fa5e608bc9c7575e",
     "locked": true,
     "schema_version": 1,
     "solution": false
    }
   },
   "source": [
    "## Exercise 1\n",
    "\n",
    "(a) Consider the out_top1000.csv list of most popular names per year since 1880 (the file can be pulled from our repository). Make a plot \"Births_1880-2010.png\" of the total sum of births through the years."
   ]
  },
  {
   "cell_type": "code",
   "execution_count": null,
   "metadata": {
    "deletable": false,
    "nbgrader": {
     "checksum": "64c4217b62f034760afdfc3bf743fece",
     "grade": false,
     "grade_id": "cell-a21fb2a04b07f2ae",
     "locked": false,
     "schema_version": 1,
     "solution": true
    }
   },
   "outputs": [],
   "source": [
    "import pandas as pd\n",
    "import numpy as np\n",
    "import matplotlib.pyplot as plt"
   ]
  },
  {
   "cell_type": "code",
   "execution_count": null,
   "metadata": {
    "deletable": false,
    "editable": false,
    "nbgrader": {
     "checksum": "1b2776b687bee8dd9d3a5dafdad1f811",
     "grade": true,
     "grade_id": "cell-4cce0f34f0ba4ca9",
     "locked": true,
     "points": 1,
     "schema_version": 1,
     "solution": false
    }
   },
   "outputs": [],
   "source": [
    "import os.path\n",
    "assert os.path.isfile(\"Births_1880-2010.png\")==True\n"
   ]
  },
  {
   "cell_type": "markdown",
   "metadata": {},
   "source": [
    "(b) Extract all the entries with 'Donald' from the list and plot the propensity through the years in a figure \"Donald_propensity.png\". (The fast fluctuations back to zero between 1920 and 1945 are due to mistakes in the basis data)"
   ]
  },
  {
   "cell_type": "code",
   "execution_count": null,
   "metadata": {
    "deletable": false,
    "nbgrader": {
     "checksum": "d2670c4620dd7bfb07097acedf6fbf75",
     "grade": false,
     "grade_id": "cell-f2ca6d048721137c",
     "locked": false,
     "schema_version": 1,
     "solution": true
    }
   },
   "outputs": [],
   "source": [
    "# YOUR CODE HERE"
   ]
  },
  {
   "cell_type": "code",
   "execution_count": null,
   "metadata": {
    "deletable": false,
    "editable": false,
    "nbgrader": {
     "checksum": "03c3bb836f067cdfa9ec241fd0a86ccd",
     "grade": true,
     "grade_id": "cell-5d8dbfcae61b70c2",
     "locked": true,
     "points": 1,
     "schema_version": 1,
     "solution": false
    }
   },
   "outputs": [],
   "source": [
    "import os.path\n",
    "assert os.path.isfile(\"Donald_propensity.png\")==True"
   ]
  },
  {
   "cell_type": "markdown",
   "metadata": {
    "deletable": false,
    "editable": false,
    "nbgrader": {
     "checksum": "bbc8c758c66f925a985466617ed24d86",
     "grade": false,
     "grade_id": "cell-7070714163c8ee56",
     "locked": true,
     "schema_version": 1,
     "solution": false
    }
   },
   "source": [
    "## Exercise 2\n",
    "\n",
    "Write a program which analyses files in pdb format (file: 3IE9.pdb). The program ignores the coordinates of the atoms of the protein molecule (lines starting with \"ATOM\") and puts the coordinates of all other atoms (lines starting with \"HETATM\") in a dataframe 'df_other' with columns 'ATOM', 'X', 'Y' and 'Z'. Print finally this dataframe to a file '3IE9.extra_info' (information separated by a space) and please check in an extra column whether ('True'/'False') the atom under consideration is Oxygen or not."
   ]
  },
  {
   "cell_type": "code",
   "execution_count": null,
   "metadata": {
    "deletable": false,
    "nbgrader": {
     "checksum": "ce7cbe04d319396cd0b2ffe6b70e75b8",
     "grade": false,
     "grade_id": "cell-c2e90a372c8e212f",
     "locked": false,
     "schema_version": 1,
     "solution": true
    }
   },
   "outputs": [],
   "source": [
    "# YOUR CODE HERE"
   ]
  },
  {
   "cell_type": "code",
   "execution_count": null,
   "metadata": {
    "deletable": false,
    "editable": false,
    "nbgrader": {
     "checksum": "cc8be0075d94c2335d80b7447495be13",
     "grade": true,
     "grade_id": "cell-b9434d8d580ef06a",
     "locked": true,
     "points": 1,
     "schema_version": 1,
     "solution": false
    }
   },
   "outputs": [],
   "source": [
    "value1=pd.Index(df_other.Atom).get_loc('CU')\n",
    "assert value1==pd.Index(df_other.Z).get_loc('-7.489')\n",
    "assert df_other.loc[value1,'Oxygen'] == False\n",
    "value2=pd.Index(df_other.Y).get_loc('1.151')\n",
    "assert value2==pd.Index(df_other.X).get_loc('-50.638')\n",
    "assert df_other.loc[value2,'Oxygen'] == True"
   ]
  },
  {
   "cell_type": "markdown",
   "metadata": {
    "deletable": false,
    "editable": false,
    "nbgrader": {
     "checksum": "69bc94c6d90aa2d46290ff37f99c6a5e",
     "grade": false,
     "grade_id": "cell-29e46c7fc515f36d",
     "locked": true,
     "schema_version": 1,
     "solution": false
    }
   },
   "source": [
    "## Exercise 3\n",
    "\n",
    "Write a program which writes out the absolute 'Sum of electronic and thermal Enthalpies' values in Hartree for all considered temperatures (1, 20, 40, 60,...480 K) in the inputfile 'Laurdan_0_va.log'. The outputfile should be called 'Exercise_3_output'; the data are separated by a space. \n",
    "\n",
    "In an extra column, put the relative energies (= the values of the previous column - the minimal value of that column) in kcal/mol. Round the values to four decimals. \n",
    "\n",
    "Print in a file 'statistics' the average value and standard deviations of these relative energies calculated using numpy: 'The average is ... kcal/mol' and on the next line 'The standard deviation is ... kcal/mol'.\n",
    "\n",
    "Make a cumulative sum of all the relative values, put it in an extra column. In this way, the output file will have four columns: 'temperature, 'H', 'rH' and 'rH_cums'.\n",
    "\n",
    "Prepare a graph of this new column in function of the temperature. In this graph ('Cumulative_rel_values.png'), please put the unit at the X- and Y-axis (K and kcal/mol, respectively). Make use of a dashed (--) red line and give the graph the title 'Cumulative relative enthalpies'. Set x-ticks starting from 0 K to 480 K, with steps of 40 K. Put the legend in the lower right corner.     "
   ]
  },
  {
   "cell_type": "code",
   "execution_count": null,
   "metadata": {
    "deletable": false,
    "nbgrader": {
     "checksum": "9967b8e8d986b1be9204978249ee4d83",
     "grade": false,
     "grade_id": "cell-9fcaa3399a5151c3",
     "locked": false,
     "schema_version": 1,
     "solution": true
    }
   },
   "outputs": [],
   "source": [
    "# YOUR CODE HERE"
   ]
  },
  {
   "cell_type": "code",
   "execution_count": null,
   "metadata": {
    "deletable": false,
    "editable": false,
    "nbgrader": {
     "checksum": "3098c212221e4ad92d1383e74c27b8bb",
     "grade": true,
     "grade_id": "cell-747c45d66d9bf66f",
     "locked": true,
     "points": 1,
     "schema_version": 1,
     "solution": false
    }
   },
   "outputs": [],
   "source": [
    "import re\n",
    "alldata_ex3 = pd.read_csv('Exercise_3_output', sep=' ')\n",
    "value1=pd.Index(alldata_ex3.temperature).get_loc(380.0)\n",
    "assert round(alldata_ex3.rH[value1],2)==28.39\n",
    "for i in range(1,24):\n",
    "    assert round(alldata_ex3.rH_cums[i]-alldata_ex3.rH_cums[i-1],2) == round( alldata_ex3.rH[i],2)\n",
    "Fs=open(\"statistics\",'r')\n",
    "lines = Fs.readlines()\n",
    "Fs.close()\n",
    "svalue=lines[0].split()[3]\n",
    "avvalue=float(svalue)\n",
    "assert round(avvalue,2) == 15.96\n",
    "svalue = lines[1].split()[4]\n",
    "avvalue=float(svalue)\n",
    "assert round(avvalue,2) == 13.36"
   ]
  }
 ],
 "metadata": {
  "kernelspec": {
   "display_name": "Python 3",
   "language": "python",
   "name": "python3"
  },
  "language_info": {
   "codemirror_mode": {
    "name": "ipython",
    "version": 3
   },
   "file_extension": ".py",
   "mimetype": "text/x-python",
   "name": "python",
   "nbconvert_exporter": "python",
   "pygments_lexer": "ipython3",
   "version": "3.6.3"
  }
 },
 "nbformat": 4,
 "nbformat_minor": 2
}
