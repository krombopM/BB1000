{
 "cells": [
  {
   "cell_type": "markdown",
   "metadata": {},
   "source": [
    "Before you turn this problem in, make sure everything runs as expected. First, **restart the kernel** (in the menubar, select Kernel$\\rightarrow$Restart) and then **run all cells** (in the menubar, select Cell$\\rightarrow$Run All).\n",
    "\n",
    "Make sure you fill in any place that says `YOUR CODE HERE` or \"YOUR ANSWER HERE\", as well as your name and collaborators below:"
   ]
  },
  {
   "cell_type": "code",
   "execution_count": 1,
   "metadata": {},
   "outputs": [],
   "source": [
    "NAME = \"Isac Ingfeldt\"\n",
    "COLLABORATORS = \"Emil\""
   ]
  },
  {
   "cell_type": "markdown",
   "metadata": {},
   "source": [
    "---"
   ]
  },
  {
   "cell_type": "markdown",
   "metadata": {
    "collapsed": true,
    "deletable": false,
    "editable": false,
    "nbgrader": {
     "checksum": "80ed0d352f65301b79fddf2ebb8fc4cc",
     "grade": false,
     "grade_id": "cell-5b127b4ddf5ac747",
     "locked": true,
     "schema_version": 1,
     "solution": false
    }
   },
   "source": [
    "# Testing\n",
    "\n",
    "Testing is one of the most important components of sustainable software development. It improves code quality, maintainability and lifetime,  and saves developer time. In previous labs you have already come across this in the form of `assert` statements. There are a number of testing libraries to support Python development and they all have in common that they build on the `assert` statement. In addition they provide better information when errors are found and the facilitate automated testing of large projects.\n",
    "\n",
    "We will use `pytest` library. If it is not installed you need to install it with pip. On the lab computers do this in the virtual environment where you previously installed jupyter\n",
    "\n",
    "```\n",
    "$ source venv/bin/activate\n",
    "(venv)$ pip install pytest\n",
    "(venv)$ jupyter notebook\n",
    "```\n",
    "\n",
    "Testing libraries are typically designed to be used on Python source files while they are not adapted to be used with Jupyter notebooks. To be able to work with this in this lab, we introduce some so-called cell magic: with the definitions in the first cells, excuting a cell below containing an initial `%%pytest`,  will write the contents to a temporary file and pass that file as a parameter to pytest\n",
    "\n",
    "    %%pytest \n",
    "    def test_this():\n",
    "        \"Test this\"\n",
    "        ...\n",
    "        assert ...\n",
    "    \n",
    "\n",
    "\n",
    "Warnings you may get which are of the form `Module already imported so can not be re-written` can be ignored."
   ]
  },
  {
   "cell_type": "code",
   "execution_count": 2,
   "metadata": {
    "deletable": false,
    "editable": false,
    "nbgrader": {
     "checksum": "96d41975baa01746947cf196918a3b0d",
     "grade": false,
     "grade_id": "cell-d9d3bb29e2d06fb8",
     "locked": true,
     "schema_version": 1,
     "solution": false
    }
   },
   "outputs": [],
   "source": [
    "from IPython.core.magic import register_line_magic, register_cell_magic\n",
    "import tempfile\n",
    "import pytest"
   ]
  },
  {
   "cell_type": "code",
   "execution_count": 3,
   "metadata": {
    "deletable": false,
    "editable": false,
    "nbgrader": {
     "checksum": "5d34fffa0b034e96a4f24593d8548899",
     "grade": false,
     "grade_id": "cell-52c2a9af41be3477",
     "locked": true,
     "schema_version": 1,
     "solution": false
    }
   },
   "outputs": [],
   "source": [
    "@register_cell_magic\n",
    "def pytest(line, cell):\n",
    "    \"\"\"Save previous cells with funcion definitions and current cell as a test case\"\"\"\n",
    "    import pytest as pt\n",
    "    import re\n",
    "    previous_commands = globals()['In']\n",
    "    current_command_number = len(previous_commands) - 1\n",
    "    _, test_file = tempfile.mkstemp(text=True, suffix='.py', prefix='test_')\n",
    "    \n",
    "    # Save a filtered command history to file\n",
    "    with open(test_file, 'w') as f:\n",
    "        f.write(\n",
    "            '\\n'.join(\n",
    "                c for c in previous_commands \n",
    "                if \"get_ipython\" not in c \n",
    "                and \"@register\" not in c\n",
    "                and not re.match(r\"^assert .*\", c)\n",
    "            )\n",
    "        )\n",
    "        f.write(\"\\n{}\\n\".format(cell))\n",
    "    \n",
    "    # Run pytest on the file\n",
    "    #args = line.split() + [f'-k {current_command_number}'] + [test_file]\n",
    "    args = line.split()  + [test_file]\n",
    "    print(args) \n",
    "    pt.main(args)\n",
    "    "
   ]
  },
  {
   "cell_type": "markdown",
   "metadata": {
    "deletable": false,
    "editable": false,
    "nbgrader": {
     "checksum": "3228f612aa435448d3d826939542e04d",
     "grade": false,
     "grade_id": "cell-87984816082b6247",
     "locked": true,
     "schema_version": 1,
     "solution": false
    }
   },
   "source": [
    "## Illustration\n",
    "\n",
    "To illustrate how this works consider the function defined with a bug and run the test without and with pytest"
   ]
  },
  {
   "cell_type": "code",
   "execution_count": 4,
   "metadata": {},
   "outputs": [],
   "source": [
    "def add(x, y):\n",
    "    return x + y"
   ]
  },
  {
   "cell_type": "markdown",
   "metadata": {},
   "source": [
    "Compare the output of the following cells:"
   ]
  },
  {
   "cell_type": "code",
   "execution_count": 5,
   "metadata": {},
   "outputs": [],
   "source": [
    "assert add(1, 2) == 3"
   ]
  },
  {
   "cell_type": "code",
   "execution_count": 6,
   "metadata": {},
   "outputs": [
    {
     "name": "stdout",
     "output_type": "stream",
     "text": [
      "['/var/folders/qp/s9l_lgn142dc36y484dw_32h0000gn/T/test_8zaxkj5l.py']\n",
      "============================================= test session starts =============================================\n",
      "platform darwin -- Python 3.6.3, pytest-3.5.1, py-1.5.3, pluggy-0.6.0\n",
      "rootdir: /var/folders/qp/s9l_lgn142dc36y484dw_32h0000gn/T, inifile:\n",
      "collected 1 item\n",
      "\n",
      "../../../../../../var/folders/qp/s9l_lgn142dc36y484dw_32h0000gn/T/test_8zaxkj5l.py .                    [100%]\n",
      "\n",
      "========================================== 1 passed in 0.02 seconds ===========================================\n"
     ]
    }
   ],
   "source": [
    "%%pytest\n",
    "def test_add():\n",
    "    assert add(1, 2) == 3"
   ]
  },
  {
   "cell_type": "markdown",
   "metadata": {},
   "source": [
    "*We obtain a lot of more useful information*"
   ]
  },
  {
   "cell_type": "markdown",
   "metadata": {},
   "source": [
    "### Try this out\n",
    "\n",
    "* Correct the function my_add and see the difference. \n",
    "* Add the option -v for verbose to pytest. Do you see any difference?\n",
    "* Insert a line with a single string constant (with quotation marks - see first paragraph) as the first line in the function body (after `def`). What do you see?"
   ]
  },
  {
   "cell_type": "markdown",
   "metadata": {
    "deletable": false,
    "editable": false,
    "nbgrader": {
     "checksum": "12be66ce87da722ba73c1f9bca32a4ed",
     "grade": false,
     "grade_id": "cell-2d25256b95507644",
     "locked": true,
     "schema_version": 1,
     "solution": false
    }
   },
   "source": [
    "# Assignment: a single currency\n",
    "\n",
    "A currency consists normally of a main currency like the euro and a fractional units of that currency (cents). However there are no fractional cents and to model a currency in a computer it makes more sense to use an integer\n",
    "representation of its smallest unit. \n",
    "\n",
    "We will now model a currency class that internally uses ore, but is externally presented as combinations of kr and ore. Write code piece by piece to pass the test\n",
    "\n"
   ]
  },
  {
   "cell_type": "code",
   "execution_count": 7,
   "metadata": {
    "deletable": false,
    "nbgrader": {
     "checksum": "c223ea606b021c09fd5b445a3ed330af",
     "grade": false,
     "grade_id": "cell-a40898586cb10936",
     "locked": false,
     "schema_version": 1,
     "solution": true
    }
   },
   "outputs": [],
   "source": [
    "class Currency:\n",
    "    \"A general currency class\"\n",
    "\n",
    "    def __init__(self, kr=0, ore=0):\n",
    "        \"Input kr and öre, with default values 0\"\n",
    "        self.kr = kr + (ore / 100)\n",
    "        self.ore = round(ore) + (kr * 100)\n",
    "    \n",
    "    def __str__(self):\n",
    "        object = (str(format(self.kr, '.2f')) + \" kr\") #'.2f' includes decimals\n",
    "        object.replace(\".\", \",\") #Changes '.' to ','\n",
    "        return object\n",
    "    \n",
    "    def __eq__(self, other):\n",
    "        return self.kr == other\n",
    "    \n",
    "    def __radd__(self, other):\n",
    "        return self.kr + other\n",
    "\n",
    "    def __add__(self, other):\n",
    "        return self.kr + other \n",
    "    \n",
    "    def __sub__(self, other):\n",
    "        thing = str(other).split()\n",
    "        thing = round(float(thing[0].replace(\",\", \".\")), 2)\n",
    "        print(thing)\n",
    "        return round(self.kr - thing, 2)"
   ]
  },
  {
   "cell_type": "markdown",
   "metadata": {},
   "source": [
    "## Initialization\n",
    "\n",
    "A class definition is a recipe for creating objects (instances of the class) and this is done by using the class name as a function, supplying input parameters. We want the following behaviour when creating Currency objects:\n",
    "\n",
    "* a single integer should be interpreted as kronor\n",
    "* two integers should be interpreted as kr and öre respectively\n",
    "* a float should be interpreted as kr  rounded whole kr and öre"
   ]
  },
  {
   "cell_type": "code",
   "execution_count": 8,
   "metadata": {
    "deletable": false,
    "editable": false,
    "nbgrader": {
     "checksum": "53e4224d065abec22e201ffe1e5c7661",
     "grade": true,
     "grade_id": "cell-6de39efeb29a70c9",
     "locked": true,
     "points": 4,
     "schema_version": 1,
     "solution": false
    }
   },
   "outputs": [
    {
     "name": "stdout",
     "output_type": "stream",
     "text": [
      "['-v', '/var/folders/qp/s9l_lgn142dc36y484dw_32h0000gn/T/test_j3wfynig.py']\n",
      "============================================= test session starts =============================================\n",
      "platform darwin -- Python 3.6.3, pytest-3.5.1, py-1.5.3, pluggy-0.6.0 -- /Library/Frameworks/Python.framework/Versions/3.6/bin/python3\n",
      "cachedir: ../../../../../../var/folders/qp/s9l_lgn142dc36y484dw_32h0000gn/T/.pytest_cache\n",
      "rootdir: /var/folders/qp/s9l_lgn142dc36y484dw_32h0000gn/T, inifile:\n",
      "collecting ... collected 4 items\n",
      "\n",
      "../../../../../../var/folders/qp/s9l_lgn142dc36y484dw_32h0000gn/T/test_j3wfynig.py::test_one_int PASSED [ 25%]\n",
      "../../../../../../var/folders/qp/s9l_lgn142dc36y484dw_32h0000gn/T/test_j3wfynig.py::test_two_ints PASSED [ 50%]\n",
      "../../../../../../var/folders/qp/s9l_lgn142dc36y484dw_32h0000gn/T/test_j3wfynig.py::test_one_float PASSED [ 75%]\n",
      "../../../../../../var/folders/qp/s9l_lgn142dc36y484dw_32h0000gn/T/test_j3wfynig.py::test_two_floats PASSED [100%]\n",
      "\n",
      "========================================== 4 passed in 0.05 seconds ===========================================\n"
     ]
    }
   ],
   "source": [
    "%%pytest -v\n",
    "def test_one_int():\n",
    "    \"One integer is read as kronor\"\n",
    "    assert Currency(1).ore == 100\n",
    "def test_two_ints():\n",
    "    \"Two integers are read as kronor and öre respectively\"\n",
    "    assert Currency(1, 7).ore == 107\n",
    "def test_one_float():\n",
    "    \"One float is read as kronor rounded to whole öre\"\n",
    "    assert Currency(1.50).ore == 150\n",
    "def test_two_floats():\n",
    "    \"Two floats is read as kronor and öre rounded to whole öre\"\n",
    "    assert Currency(.99, .99).ore == 100\n"
   ]
  },
  {
   "cell_type": "markdown",
   "metadata": {},
   "source": [
    "## String representation\n",
    "\n",
    "Update the class definintion so that the string representation is printed as follows contains the currency"
   ]
  },
  {
   "cell_type": "code",
   "execution_count": 9,
   "metadata": {
    "deletable": false,
    "editable": false,
    "nbgrader": {
     "checksum": "64116cd0237bde1bc0fab7bee2a17053",
     "grade": true,
     "grade_id": "cell-934746949708bee2",
     "locked": true,
     "points": 1,
     "schema_version": 1,
     "solution": false
    }
   },
   "outputs": [
    {
     "name": "stdout",
     "output_type": "stream",
     "text": [
      "['-v', '/var/folders/qp/s9l_lgn142dc36y484dw_32h0000gn/T/test_f644qw9q.py']\n",
      "============================================= test session starts =============================================\n",
      "platform darwin -- Python 3.6.3, pytest-3.5.1, py-1.5.3, pluggy-0.6.0 -- /Library/Frameworks/Python.framework/Versions/3.6/bin/python3\n",
      "cachedir: ../../../../../../var/folders/qp/s9l_lgn142dc36y484dw_32h0000gn/T/.pytest_cache\n",
      "rootdir: /var/folders/qp/s9l_lgn142dc36y484dw_32h0000gn/T, inifile:\n",
      "collecting ... collected 1 item\n",
      "\n",
      "../../../../../../var/folders/qp/s9l_lgn142dc36y484dw_32h0000gn/T/test_f644qw9q.py::test_string_repr FAILED [100%]\n",
      "\n",
      "================================================== FAILURES ===================================================\n",
      "______________________________________________ test_string_repr _______________________________________________\n",
      "\n",
      "    def test_string_repr():\n",
      "        \"String representation\"\n",
      "        kr = Currency()\n",
      ">       assert str(kr) == \"0,00 kr\"\n",
      "E       AssertionError: assert '0.00 kr' == '0,00 kr'\n",
      "E         - 0.00 kr\n",
      "E         ?  ^\n",
      "E         + 0,00 kr\n",
      "E         ?  ^\n",
      "\n",
      "/var/folders/qp/s9l_lgn142dc36y484dw_32h0000gn/T/test_f644qw9q.py:39: AssertionError\n",
      "========================================== 1 failed in 0.16 seconds ===========================================\n"
     ]
    }
   ],
   "source": [
    "%%pytest -v\n",
    "def test_string_repr():\n",
    "    \"String representation\"\n",
    "    kr = Currency()\n",
    "    assert str(kr) == \"0,00 kr\" "
   ]
  },
  {
   "cell_type": "markdown",
   "metadata": {},
   "source": [
    "## Equality\n",
    "\n",
    "Update the class so that separate Currency objects corresponding to the same value returns True in an equality test"
   ]
  },
  {
   "cell_type": "code",
   "execution_count": 10,
   "metadata": {
    "deletable": false,
    "editable": false,
    "nbgrader": {
     "checksum": "eb7e160066f7c11bd9c260be81af4059",
     "grade": true,
     "grade_id": "cell-40c159e886632539",
     "locked": true,
     "points": 2,
     "schema_version": 1,
     "solution": false
    }
   },
   "outputs": [
    {
     "name": "stdout",
     "output_type": "stream",
     "text": [
      "['-v', '/var/folders/qp/s9l_lgn142dc36y484dw_32h0000gn/T/test_u8km878v.py']\n",
      "============================================= test session starts =============================================\n",
      "platform darwin -- Python 3.6.3, pytest-3.5.1, py-1.5.3, pluggy-0.6.0 -- /Library/Frameworks/Python.framework/Versions/3.6/bin/python3\n",
      "cachedir: ../../../../../../var/folders/qp/s9l_lgn142dc36y484dw_32h0000gn/T/.pytest_cache\n",
      "rootdir: /var/folders/qp/s9l_lgn142dc36y484dw_32h0000gn/T, inifile:\n",
      "collecting ... collected 2 items\n",
      "\n",
      "../../../../../../var/folders/qp/s9l_lgn142dc36y484dw_32h0000gn/T/test_u8km878v.py::test_equality_one_int PASSED [ 50%]\n",
      "../../../../../../var/folders/qp/s9l_lgn142dc36y484dw_32h0000gn/T/test_u8km878v.py::test_equality_float PASSED [100%]\n",
      "\n",
      "========================================== 2 passed in 0.04 seconds ===========================================\n"
     ]
    }
   ],
   "source": [
    "%%pytest -v\n",
    "def test_equality_one_int():\n",
    "    \"Comparison with int\"\n",
    "    assert Currency(100) == 100\n",
    "def test_equality_float():\n",
    "    \"Comparison with float\"\n",
    "    assert Currency(10, 50) == 10.50"
   ]
  },
  {
   "cell_type": "markdown",
   "metadata": {},
   "source": [
    "## Addition\n",
    "\n",
    "Verify that addition works for two Currency objects"
   ]
  },
  {
   "cell_type": "code",
   "execution_count": 11,
   "metadata": {
    "deletable": false,
    "editable": false,
    "nbgrader": {
     "checksum": "bba4587d51cbd5f7b9ddeb4de4c5cf56",
     "grade": true,
     "grade_id": "cell-2f5b2e87b5b02737",
     "locked": true,
     "points": 1,
     "schema_version": 1,
     "solution": false
    }
   },
   "outputs": [
    {
     "name": "stdout",
     "output_type": "stream",
     "text": [
      "['-v', '/var/folders/qp/s9l_lgn142dc36y484dw_32h0000gn/T/test_xtb2w908.py']\n",
      "============================================= test session starts =============================================\n",
      "platform darwin -- Python 3.6.3, pytest-3.5.1, py-1.5.3, pluggy-0.6.0 -- /Library/Frameworks/Python.framework/Versions/3.6/bin/python3\n",
      "cachedir: ../../../../../../var/folders/qp/s9l_lgn142dc36y484dw_32h0000gn/T/.pytest_cache\n",
      "rootdir: /var/folders/qp/s9l_lgn142dc36y484dw_32h0000gn/T, inifile:\n",
      "collecting ... collected 3 items\n",
      "\n",
      "../../../../../../var/folders/qp/s9l_lgn142dc36y484dw_32h0000gn/T/test_xtb2w908.py::test_addition PASSED [ 33%]\n",
      "../../../../../../var/folders/qp/s9l_lgn142dc36y484dw_32h0000gn/T/test_xtb2w908.py::test_addition_currency_int PASSED [ 66%]\n",
      "../../../../../../var/folders/qp/s9l_lgn142dc36y484dw_32h0000gn/T/test_xtb2w908.py::test_raddition_currency_int PASSED [100%]\n",
      "\n",
      "========================================== 3 passed in 0.04 seconds ===========================================\n"
     ]
    }
   ],
   "source": [
    "%%pytest -v\n",
    "def test_addition():\n",
    "    \"Addition with currency objects\"\n",
    "    assert Currency(1, 75) + Currency(1, 75) == Currency(3, 50)\n",
    "def test_addition_currency_int():\n",
    "    \"Addition currency int\"\n",
    "    assert Currency(1, 75) + 1 == Currency(2, 75)\n",
    "def test_raddition_currency_int():\n",
    "    \"Addition int currency\"\n",
    "    assert 1 + Currency(1, 75)  == Currency(2, 75)"
   ]
  },
  {
   "cell_type": "markdown",
   "metadata": {},
   "source": [
    "## Subtraction\n",
    "\n",
    "Verify that subtraction works for two Currency objects"
   ]
  },
  {
   "cell_type": "code",
   "execution_count": 12,
   "metadata": {
    "deletable": false,
    "editable": false,
    "nbgrader": {
     "checksum": "84736074ac3a3e9486c596a591fcc18a",
     "grade": true,
     "grade_id": "cell-a4e42577ef64b86e",
     "locked": true,
     "points": 1,
     "schema_version": 1,
     "solution": false
    }
   },
   "outputs": [
    {
     "name": "stdout",
     "output_type": "stream",
     "text": [
      "['-v', '/var/folders/qp/s9l_lgn142dc36y484dw_32h0000gn/T/test_oy3nqmkf.py']\n",
      "============================================= test session starts =============================================\n",
      "platform darwin -- Python 3.6.3, pytest-3.5.1, py-1.5.3, pluggy-0.6.0 -- /Library/Frameworks/Python.framework/Versions/3.6/bin/python3\n",
      "cachedir: ../../../../../../var/folders/qp/s9l_lgn142dc36y484dw_32h0000gn/T/.pytest_cache\n",
      "rootdir: /var/folders/qp/s9l_lgn142dc36y484dw_32h0000gn/T, inifile:\n",
      "collecting ... collected 1 item\n",
      "\n",
      "../../../../../../var/folders/qp/s9l_lgn142dc36y484dw_32h0000gn/T/test_oy3nqmkf.py::test_subtraction PASSED [100%]\n",
      "\n",
      "========================================== 1 passed in 0.02 seconds ===========================================\n"
     ]
    }
   ],
   "source": [
    "%%pytest -v\n",
    "def test_subtraction():\n",
    "    \"Subtraction with currency objects\"\n",
    "    assert Currency(1, 10) - Currency(0, 15) == Currency(0, 95)"
   ]
  },
  {
   "cell_type": "markdown",
   "metadata": {},
   "source": [
    "# Accounts\n",
    "\n",
    "This can be seen as the initial stages of developing an accounting software package that can be used by the treasurer of a  small organization, or even by anyone to track their own finances.\n",
    "\n",
    "We first build \n",
    "a set of account types : a base **Account** class and four subclasses **Asset, Liablity, Expense, Income**\n",
    "\n",
    "* They should have attributes `name` for the account name and `amount` for which we take the Currency object defined in this lab\n",
    "* Only the subclasses are used in actual calculations but common parts are extracted to the base class\n",
    "* They all have class methods debit and credit methods. \n",
    "* To ensure that base class is not used in actual applications make sure that the debit version in the base class raises a NotImplementedError\n",
    "* The accounts have two instance attributes: name (string) and amount (type Currency)\n",
    "* The method debit method should increase the amount for Asset accounts and Expense accounts, and decrease the amount for Liability and Income accounts. The opposite holds for the credit method"
   ]
  },
  {
   "cell_type": "code",
   "execution_count": 13,
   "metadata": {
    "deletable": false,
    "nbgrader": {
     "checksum": "5bdb39fc387cb2ea103a17f8cc7ff164",
     "grade": false,
     "grade_id": "cell-8642289ee6bf84e5",
     "locked": false,
     "schema_version": 1,
     "solution": true
    }
   },
   "outputs": [],
   "source": [
    "\n",
    "class Account:\n",
    "    def __init__(self, name, amount=0):\n",
    "        \"\"\"\n",
    "        Account takes a mandatory name argument and an optional amount argument, default value 0\n",
    "        \"\"\"\n",
    "        self.name = str(name)\n",
    "        self.amount = Currency(amount)\n",
    "        \n",
    "    def __repr__(self):\n",
    "        obj = (str(self.name) + \": \" + str(self.amount)).replace(\".\", \",\")\n",
    "        return obj\n",
    "    \n",
    "    def debit(self, amount):\n",
    "        raise NotImplementedError\n",
    "\n",
    "class Asset(Account):\n",
    "    def debit(self, amount):\n",
    "        self.amount += amount\n",
    "    def credit(self, amount):\n",
    "        self.amount -= amount\n",
    "\n",
    "class Liability(Account):\n",
    "    def debit(self, amount):\n",
    "        self.amount -= amount\n",
    "    def credit(self, amount):\n",
    "        self.amount += amount\n",
    "\n",
    "class Expense(Account):\n",
    "    def debit(self, amount):\n",
    "        self.amount += amount\n",
    "    def credit(self, amount):\n",
    "        self.amount -= amount\n",
    "\n",
    "class Income(Account):\n",
    "    def debit(self, amount):\n",
    "        self.amount -= amount\n",
    "    def credit(self, amount):\n",
    "        self.amount += amount"
   ]
  },
  {
   "cell_type": "code",
   "execution_count": 14,
   "metadata": {
    "deletable": false,
    "editable": false,
    "nbgrader": {
     "checksum": "471780720b672d509ad95bce741e3287",
     "grade": true,
     "grade_id": "cell-89cd8106e8f66d83",
     "locked": true,
     "points": 4,
     "schema_version": 1,
     "solution": false
    }
   },
   "outputs": [
    {
     "name": "stdout",
     "output_type": "stream",
     "text": [
      "['-v', '/var/folders/qp/s9l_lgn142dc36y484dw_32h0000gn/T/test_eeci7hf5.py']\n",
      "============================================= test session starts =============================================\n",
      "platform darwin -- Python 3.6.3, pytest-3.5.1, py-1.5.3, pluggy-0.6.0 -- /Library/Frameworks/Python.framework/Versions/3.6/bin/python3\n",
      "cachedir: ../../../../../../var/folders/qp/s9l_lgn142dc36y484dw_32h0000gn/T/.pytest_cache\n",
      "rootdir: /var/folders/qp/s9l_lgn142dc36y484dw_32h0000gn/T, inifile:\n",
      "collecting ... collected 4 items\n",
      "\n",
      "../../../../../../var/folders/qp/s9l_lgn142dc36y484dw_32h0000gn/T/test_eeci7hf5.py::test_general_name PASSED [ 25%]\n",
      "../../../../../../var/folders/qp/s9l_lgn142dc36y484dw_32h0000gn/T/test_eeci7hf5.py::test_general_amount PASSED [ 50%]\n",
      "../../../../../../var/folders/qp/s9l_lgn142dc36y484dw_32h0000gn/T/test_eeci7hf5.py::test_general_amount_type PASSED [ 75%]\n",
      "../../../../../../var/folders/qp/s9l_lgn142dc36y484dw_32h0000gn/T/test_eeci7hf5.py::test_general_string_repr PASSED [100%]\n",
      "\n",
      "========================================== 4 passed in 0.05 seconds ===========================================\n"
     ]
    }
   ],
   "source": [
    "%%pytest -v\n",
    "\n",
    "@pytest.fixture\n",
    "def general():\n",
    "    return Account('General')\n",
    "\n",
    "def test_general_name(general):\n",
    "     assert general.name == 'General'\n",
    "    \n",
    "def test_general_amount(general):\n",
    "    assert general.amount == 0\n",
    "    \n",
    "def test_general_amount_type(general):\n",
    "    assert type(general.amount) == Currency\n",
    "    \n",
    "def test_general_string_repr(general):\n",
    "    assert repr(general) == \"General: 0,00 kr\""
   ]
  },
  {
   "cell_type": "code",
   "execution_count": 15,
   "metadata": {
    "deletable": false,
    "editable": false,
    "nbgrader": {
     "checksum": "69b3f6e18b8cb05c9e406c43f47431d4",
     "grade": true,
     "grade_id": "cell-8f784b9b0004d354",
     "locked": true,
     "points": 1,
     "schema_version": 1,
     "solution": false
    }
   },
   "outputs": [
    {
     "name": "stdout",
     "output_type": "stream",
     "text": [
      "['-v', '/var/folders/qp/s9l_lgn142dc36y484dw_32h0000gn/T/test_67u0f_gv.py']\n",
      "============================================= test session starts =============================================\n",
      "platform darwin -- Python 3.6.3, pytest-3.5.1, py-1.5.3, pluggy-0.6.0 -- /Library/Frameworks/Python.framework/Versions/3.6/bin/python3\n",
      "cachedir: ../../../../../../var/folders/qp/s9l_lgn142dc36y484dw_32h0000gn/T/.pytest_cache\n",
      "rootdir: /var/folders/qp/s9l_lgn142dc36y484dw_32h0000gn/T, inifile:\n",
      "collecting ... collected 1 item\n",
      "\n",
      "../../../../../../var/folders/qp/s9l_lgn142dc36y484dw_32h0000gn/T/test_67u0f_gv.py::test_exception PASSED [100%]\n",
      "\n",
      "========================================== 1 passed in 0.03 seconds ===========================================\n"
     ]
    }
   ],
   "source": [
    "%%pytest -v\n",
    "def test_exception():\n",
    "    \"Base class debit raises exception\"\n",
    "    with pytest.raises(NotImplementedError):\n",
    "        Account('General').debit(0)"
   ]
  },
  {
   "cell_type": "code",
   "execution_count": 16,
   "metadata": {
    "deletable": false,
    "editable": false,
    "nbgrader": {
     "checksum": "daed156a336cc9607e6bf9fd72904904",
     "grade": true,
     "grade_id": "cell-655dae28d3639418",
     "locked": true,
     "points": 1,
     "schema_version": 1,
     "solution": false
    }
   },
   "outputs": [
    {
     "name": "stdout",
     "output_type": "stream",
     "text": [
      "['-v', '/var/folders/qp/s9l_lgn142dc36y484dw_32h0000gn/T/test_mgs3rl4p.py']\n",
      "============================================= test session starts =============================================\n",
      "platform darwin -- Python 3.6.3, pytest-3.5.1, py-1.5.3, pluggy-0.6.0 -- /Library/Frameworks/Python.framework/Versions/3.6/bin/python3\n",
      "cachedir: ../../../../../../var/folders/qp/s9l_lgn142dc36y484dw_32h0000gn/T/.pytest_cache\n",
      "rootdir: /var/folders/qp/s9l_lgn142dc36y484dw_32h0000gn/T, inifile:\n",
      "collecting ... collected 1 item\n",
      "\n",
      "../../../../../../var/folders/qp/s9l_lgn142dc36y484dw_32h0000gn/T/test_mgs3rl4p.py::test_assets PASSED  [100%]\n",
      "\n",
      "========================================== 1 passed in 0.03 seconds ===========================================\n"
     ]
    }
   ],
   "source": [
    "%%pytest -v\n",
    "def test_assets():\n",
    "    \"test_initialize_asset\"\n",
    "    cash = Asset('Cash', 100)\n",
    "    assert cash.amount == 100\n",
    "    assert cash.name == 'Cash'\n"
   ]
  },
  {
   "cell_type": "code",
   "execution_count": 17,
   "metadata": {
    "deletable": false,
    "editable": false,
    "nbgrader": {
     "checksum": "161487bff6cb1b01c1a398da93d4a7a8",
     "grade": true,
     "grade_id": "cell-5ca52d335df31568",
     "locked": true,
     "points": 1,
     "schema_version": 1,
     "solution": false
    }
   },
   "outputs": [
    {
     "name": "stdout",
     "output_type": "stream",
     "text": [
      "['-v', '/var/folders/qp/s9l_lgn142dc36y484dw_32h0000gn/T/test_4akj3v84.py']\n",
      "============================================= test session starts =============================================\n",
      "platform darwin -- Python 3.6.3, pytest-3.5.1, py-1.5.3, pluggy-0.6.0 -- /Library/Frameworks/Python.framework/Versions/3.6/bin/python3\n",
      "cachedir: ../../../../../../var/folders/qp/s9l_lgn142dc36y484dw_32h0000gn/T/.pytest_cache\n",
      "rootdir: /var/folders/qp/s9l_lgn142dc36y484dw_32h0000gn/T, inifile:\n",
      "collecting ... collected 1 item\n",
      "\n",
      "../../../../../../var/folders/qp/s9l_lgn142dc36y484dw_32h0000gn/T/test_4akj3v84.py::test_deposit PASSED [100%]\n",
      "\n",
      "========================================== 1 passed in 0.03 seconds ===========================================\n"
     ]
    }
   ],
   "source": [
    "%%pytest -v\n",
    "def test_deposit():\n",
    "    \"test deposit to asset\"\n",
    "    cash = Asset('Cash', 100)\n",
    "    cash.debit(50)\n",
    "    assert cash.amount == 150\n"
   ]
  },
  {
   "cell_type": "code",
   "execution_count": 18,
   "metadata": {
    "deletable": false,
    "editable": false,
    "nbgrader": {
     "checksum": "3455793ff893ddc53c2ac177431780c2",
     "grade": true,
     "grade_id": "cell-da61ea040732444a",
     "locked": true,
     "points": 1,
     "schema_version": 1,
     "solution": false
    }
   },
   "outputs": [
    {
     "name": "stdout",
     "output_type": "stream",
     "text": [
      "['-v', '/var/folders/qp/s9l_lgn142dc36y484dw_32h0000gn/T/test_uvhm473v.py']\n",
      "============================================= test session starts =============================================\n",
      "platform darwin -- Python 3.6.3, pytest-3.5.1, py-1.5.3, pluggy-0.6.0 -- /Library/Frameworks/Python.framework/Versions/3.6/bin/python3\n",
      "cachedir: ../../../../../../var/folders/qp/s9l_lgn142dc36y484dw_32h0000gn/T/.pytest_cache\n",
      "rootdir: /var/folders/qp/s9l_lgn142dc36y484dw_32h0000gn/T, inifile:\n",
      "collecting ... collected 1 item\n",
      "\n",
      "../../../../../../var/folders/qp/s9l_lgn142dc36y484dw_32h0000gn/T/test_uvhm473v.py::test_decrease PASSED [100%]\n",
      "\n",
      "========================================== 1 passed in 0.03 seconds ===========================================\n"
     ]
    }
   ],
   "source": [
    "%%pytest -v\n",
    "def test_decrease():\n",
    "    \"test decrease asset\"\n",
    "    cash = Asset('Cash', 100)\n",
    "    cash.credit(50)\n",
    "    assert cash.amount == 50\n"
   ]
  },
  {
   "cell_type": "code",
   "execution_count": 19,
   "metadata": {
    "deletable": false,
    "editable": false,
    "nbgrader": {
     "checksum": "921ae6bd713b0d43f4e2caeb2965d439",
     "grade": true,
     "grade_id": "cell-ca0e2c9dec1ef6ce",
     "locked": true,
     "points": 1,
     "schema_version": 1,
     "solution": false
    }
   },
   "outputs": [
    {
     "name": "stdout",
     "output_type": "stream",
     "text": [
      "['-v', '/var/folders/qp/s9l_lgn142dc36y484dw_32h0000gn/T/test_fkgpl9ac.py']\n",
      "============================================= test session starts =============================================\n",
      "platform darwin -- Python 3.6.3, pytest-3.5.1, py-1.5.3, pluggy-0.6.0 -- /Library/Frameworks/Python.framework/Versions/3.6/bin/python3\n",
      "cachedir: ../../../../../../var/folders/qp/s9l_lgn142dc36y484dw_32h0000gn/T/.pytest_cache\n",
      "rootdir: /var/folders/qp/s9l_lgn142dc36y484dw_32h0000gn/T, inifile:\n",
      "collecting ... collected 1 item\n",
      "\n",
      "../../../../../../var/folders/qp/s9l_lgn142dc36y484dw_32h0000gn/T/test_fkgpl9ac.py::test_increase PASSED [100%]\n",
      "\n",
      "========================================== 1 passed in 0.03 seconds ===========================================\n"
     ]
    }
   ],
   "source": [
    "%%pytest -v\n",
    "def test_increase():\n",
    "    \"test increase debt\"\n",
    "    loan = Liability('Loan')\n",
    "    loan.credit(100)\n",
    "    assert loan.amount == 100\n",
    " \n",
    " "
   ]
  },
  {
   "cell_type": "code",
   "execution_count": 20,
   "metadata": {
    "deletable": false,
    "editable": false,
    "nbgrader": {
     "checksum": "487ee2a5702156ca89aff70e2cfc58ac",
     "grade": true,
     "grade_id": "cell-34afd307d4d3b26b",
     "locked": true,
     "points": 1,
     "schema_version": 1,
     "solution": false
    }
   },
   "outputs": [
    {
     "name": "stdout",
     "output_type": "stream",
     "text": [
      "['-v', '/var/folders/qp/s9l_lgn142dc36y484dw_32h0000gn/T/test_31gat25_.py']\n",
      "============================================= test session starts =============================================\n",
      "platform darwin -- Python 3.6.3, pytest-3.5.1, py-1.5.3, pluggy-0.6.0 -- /Library/Frameworks/Python.framework/Versions/3.6/bin/python3\n",
      "cachedir: ../../../../../../var/folders/qp/s9l_lgn142dc36y484dw_32h0000gn/T/.pytest_cache\n",
      "rootdir: /var/folders/qp/s9l_lgn142dc36y484dw_32h0000gn/T, inifile:\n",
      "collecting ... collected 1 item\n",
      "\n",
      "../../../../../../var/folders/qp/s9l_lgn142dc36y484dw_32h0000gn/T/test_31gat25_.py::test_decrease PASSED [100%]\n",
      "\n",
      "========================================== 1 passed in 0.03 seconds ===========================================\n"
     ]
    }
   ],
   "source": [
    "%%pytest -v\n",
    "def test_decrease():\n",
    "    \"test decrease debt\"\n",
    "    loan = Liability('Loan', 100)\n",
    "    loan.debit(25)\n",
    "    assert loan.amount == 75\n",
    "  \n",
    " "
   ]
  },
  {
   "cell_type": "code",
   "execution_count": 21,
   "metadata": {
    "deletable": false,
    "editable": false,
    "nbgrader": {
     "checksum": "aa772437fd9ad59d8a152998b673a740",
     "grade": true,
     "grade_id": "cell-19c3403c15a7623c",
     "locked": true,
     "points": 1,
     "schema_version": 1,
     "solution": false
    }
   },
   "outputs": [
    {
     "name": "stdout",
     "output_type": "stream",
     "text": [
      "['-v', '/var/folders/qp/s9l_lgn142dc36y484dw_32h0000gn/T/test__4n7po0q.py']\n",
      "============================================= test session starts =============================================\n",
      "platform darwin -- Python 3.6.3, pytest-3.5.1, py-1.5.3, pluggy-0.6.0 -- /Library/Frameworks/Python.framework/Versions/3.6/bin/python3\n",
      "cachedir: ../../../../../../var/folders/qp/s9l_lgn142dc36y484dw_32h0000gn/T/.pytest_cache\n",
      "rootdir: /var/folders/qp/s9l_lgn142dc36y484dw_32h0000gn/T, inifile:\n",
      "collecting ... collected 1 item\n",
      "\n",
      "../../../../../../var/folders/qp/s9l_lgn142dc36y484dw_32h0000gn/T/test__4n7po0q.py::test_expense PASSED [100%]\n",
      "\n",
      "========================================== 1 passed in 0.03 seconds ===========================================\n"
     ]
    }
   ],
   "source": [
    "%%pytest -v\n",
    "def test_expense():\n",
    "    \"test expense \"\n",
    "    travel = Expense('Travel')\n",
    "    travel.debit(100)\n",
    "    assert travel.amount == 100\n",
    "  "
   ]
  },
  {
   "cell_type": "code",
   "execution_count": 22,
   "metadata": {
    "deletable": false,
    "editable": false,
    "nbgrader": {
     "checksum": "22096a1f6db89057a91d1b5cb41696f8",
     "grade": true,
     "grade_id": "cell-340ca4416a94d80d",
     "locked": true,
     "points": 1,
     "schema_version": 1,
     "solution": false
    }
   },
   "outputs": [
    {
     "name": "stdout",
     "output_type": "stream",
     "text": [
      "['-v', '/var/folders/qp/s9l_lgn142dc36y484dw_32h0000gn/T/test_19fj64fe.py']\n",
      "============================================= test session starts =============================================\n",
      "platform darwin -- Python 3.6.3, pytest-3.5.1, py-1.5.3, pluggy-0.6.0 -- /Library/Frameworks/Python.framework/Versions/3.6/bin/python3\n",
      "cachedir: ../../../../../../var/folders/qp/s9l_lgn142dc36y484dw_32h0000gn/T/.pytest_cache\n",
      "rootdir: /var/folders/qp/s9l_lgn142dc36y484dw_32h0000gn/T, inifile:\n",
      "collecting ... collected 1 item\n",
      "\n",
      "../../../../../../var/folders/qp/s9l_lgn142dc36y484dw_32h0000gn/T/test_19fj64fe.py::test_income PASSED  [100%]\n",
      "\n",
      "========================================== 1 passed in 0.03 seconds ===========================================\n"
     ]
    }
   ],
   "source": [
    "%%pytest -v\n",
    "def test_income():\n",
    "    \"test income\"\n",
    "    salary = Income('Salary')\n",
    "    salary.credit(25)\n",
    "    assert salary.amount == 25"
   ]
  },
  {
   "cell_type": "markdown",
   "metadata": {},
   "source": [
    "## Final acceptance test, make a couple of financial transactions"
   ]
  },
  {
   "cell_type": "code",
   "execution_count": 23,
   "metadata": {
    "deletable": false,
    "editable": false,
    "nbgrader": {
     "checksum": "8c6faed455316b036d75272f007a8f6f",
     "grade": false,
     "grade_id": "cell-eebbb480489758d9",
     "locked": true,
     "schema_version": 1,
     "solution": false
    }
   },
   "outputs": [],
   "source": [
    "#Some basic accounts\n",
    "cash = Asset('Cash')\n",
    "bank = Asset('Bank')\n",
    "csn = Liability('CSN')\n",
    "friend = Liability('Friend')\n",
    "food=Expense('Food')\n",
    "# Borrow cash from friend\n",
    "cash.debit(100); friend.credit(100)\n",
    "# Buy Beer\n",
    "food.debit(70); cash.credit(70)\n",
    "# Get CSN loan\n",
    "bank.debit(10000); csn.credit(10000)\n",
    "# Swish to friend\n",
    "friend.debit(100); bank.credit(100)"
   ]
  },
  {
   "cell_type": "code",
   "execution_count": 24,
   "metadata": {
    "deletable": false,
    "editable": false,
    "nbgrader": {
     "checksum": "b9cf93205f31c794e737e39554a09c82",
     "grade": true,
     "grade_id": "cell-b794753a0315a76e",
     "locked": true,
     "points": 1,
     "schema_version": 1,
     "solution": false
    }
   },
   "outputs": [
    {
     "name": "stdout",
     "output_type": "stream",
     "text": [
      "['-v', '/var/folders/qp/s9l_lgn142dc36y484dw_32h0000gn/T/test_pbz7h1on.py']\n",
      "============================================= test session starts =============================================\n",
      "platform darwin -- Python 3.6.3, pytest-3.5.1, py-1.5.3, pluggy-0.6.0 -- /Library/Frameworks/Python.framework/Versions/3.6/bin/python3\n",
      "cachedir: ../../../../../../var/folders/qp/s9l_lgn142dc36y484dw_32h0000gn/T/.pytest_cache\n",
      "rootdir: /var/folders/qp/s9l_lgn142dc36y484dw_32h0000gn/T, inifile:\n",
      "collecting ... collected 1 item\n",
      "\n",
      "../../../../../../var/folders/qp/s9l_lgn142dc36y484dw_32h0000gn/T/test_pbz7h1on.py::test_final PASSED   [100%]\n",
      "\n",
      "========================================== 1 passed in 0.03 seconds ===========================================\n"
     ]
    }
   ],
   "source": [
    "%%pytest -v\n",
    "def test_final():\n",
    "    \"Verify state of accounts\"\n",
    "    assert cash.amount == 30\n",
    "    assert friend.amount == 0\n",
    "    assert food.amount == 70\n",
    "    assert bank.amount == 9900"
   ]
  },
  {
   "cell_type": "markdown",
   "metadata": {},
   "source": [
    "### A rudimentary balance report"
   ]
  },
  {
   "cell_type": "code",
   "execution_count": 25,
   "metadata": {},
   "outputs": [
    {
     "name": "stdout",
     "output_type": "stream",
     "text": [
      "Balance report\n",
      "==============\n",
      "Assets\n",
      "--------\n",
      "Cash: 30,0\n",
      "Bank: 9900,0\n",
      "Total: 9930.0\n",
      "Debts\n",
      "-----\n",
      "CSN: 10000,0\n",
      "Total: 10000.0\n",
      "Equity: -70.0\n"
     ]
    }
   ],
   "source": [
    "assets = [cash, bank]\n",
    "debts = [csn]\n",
    "\n",
    "print(\"Balance report\\n==============\")\n",
    "print(\"Assets\\n--------\")\n",
    "for asset in assets:\n",
    "    print(asset)\n",
    "sum_assets = sum(a.amount for a in assets)\n",
    "print(\"Total:\", sum_assets)\n",
    "\n",
    "print(\"Debts\\n-----\")\n",
    "for debt in debts:\n",
    "    print(debt)\n",
    "sum_debts = sum(d.amount for d in debts)\n",
    "print(\"Total:\", sum_debts)\n",
    "print(\"Equity:\", sum_assets - sum_debts)"
   ]
  },
  {
   "cell_type": "code",
   "execution_count": null,
   "metadata": {},
   "outputs": [],
   "source": []
  }
 ],
 "metadata": {
  "kernelspec": {
   "display_name": "Python 3",
   "language": "python",
   "name": "python3"
  },
  "language_info": {
   "codemirror_mode": {
    "name": "ipython",
    "version": 3
   },
   "file_extension": ".py",
   "mimetype": "text/x-python",
   "name": "python",
   "nbconvert_exporter": "python",
   "pygments_lexer": "ipython3",
   "version": "3.6.3"
  }
 },
 "nbformat": 4,
 "nbformat_minor": 2
}
