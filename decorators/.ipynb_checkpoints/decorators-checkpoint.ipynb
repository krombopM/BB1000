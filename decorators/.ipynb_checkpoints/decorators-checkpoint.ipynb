{
 "cells": [
  {
   "cell_type": "markdown",
   "metadata": {},
   "source": [
    "Before you turn this problem in, make sure everything runs as expected. First, **restart the kernel** (in the menubar, select Kernel$\\rightarrow$Restart) and then **run all cells** (in the menubar, select Cell$\\rightarrow$Run All).\n",
    "\n",
    "Make sure you fill in any place that says `YOUR CODE HERE` or \"YOUR ANSWER HERE\", as well as your name and collaborators below:"
   ]
  },
  {
   "cell_type": "code",
   "execution_count": 1,
   "metadata": {},
   "outputs": [],
   "source": [
    "NAME = \"Emil Spåre\"\n",
    "COLLABORATORS = \"\""
   ]
  },
  {
   "cell_type": "markdown",
   "metadata": {},
   "source": [
    "---"
   ]
  },
  {
   "cell_type": "markdown",
   "metadata": {},
   "source": [
    "# Using decorators in Python\n",
    "\n",
    "### A. Function variables: \n",
    "\n",
    "Create a generic function integrate_func(func, n), which implements arbitrary function integration in interval [-1,1] \n",
    "using Chebyshev–Gauss quadrature of first kind: \n",
    " \n",
    "$\\int_{-1}^{+1} {\\frac{f(x)}{\\sqrt{(1-x^2)}}dx} \\approx \\sum_{i=1}^{n} \\omega_i f(x_i)$ \n",
    "\n",
    "where the i-th grid point weight and values are    \n",
    "\n",
    "$x_i = cos(\\frac{2i-1}{2n} \\pi)$ and  $\\omega_i = \\frac{\\pi}{n}$. \n",
    "\n",
    "* Function integrate_func(func, n):\n",
    "* Parameters\n",
    "    - func is the mathematical function, which will be integrated. \n",
    "    - n is the number of grid points. \n",
    "* Return\n",
    "    - the value of integral (single float number)."
   ]
  },
  {
   "cell_type": "code",
   "execution_count": 2,
   "metadata": {
    "deletable": false,
    "nbgrader": {
     "checksum": "d3e9162790fb48b903b62ef356ca72fa",
     "grade": false,
     "grade_id": "cell-106104681ce80401",
     "locked": false,
     "schema_version": 1,
     "solution": true
    }
   },
   "outputs": [],
   "source": [
    "import math\n",
    "\n",
    "def integrate_func(func, n):\n",
    "    result = 0\n",
    "    for item in range(1, n + 1):\n",
    "        result += (math.pi / n) * func(math.cos((math.pi * (2 * item - 1)) / (2 * n)))\n",
    "    return result"
   ]
  },
  {
   "cell_type": "code",
   "execution_count": 3,
   "metadata": {
    "deletable": false,
    "editable": false,
    "nbgrader": {
     "checksum": "c9df3bab7de0b21eb593293af11d1305",
     "grade": true,
     "grade_id": "cell-e8becee65f92a575",
     "locked": true,
     "points": 1,
     "schema_version": 1,
     "solution": false
    }
   },
   "outputs": [],
   "source": [
    "# Verify integration function \n",
    "\n",
    "def one_func(x): \n",
    "    return math.sqrt(1.0 - x * x)\n",
    "\n",
    "assert math.fabs(integrate_func(one_func, 100) - 2.0) < 1.0e-3\n",
    "\n",
    "assert math.fabs(integrate_func(math.cos, 100) - 2.403939430634413) < 1.0e-4"
   ]
  },
  {
   "cell_type": "markdown",
   "metadata": {},
   "source": [
    "### B. Simple decorators \n",
    "\n",
    "Create decorators for an arbitrary mathematical function f(x):\n",
    "* decorator square, which applies $1 - f(x)^2$ transformation to f(x).\n",
    "* decorator gaussian, which applies $exp(-0.5 * f(x)^2)$ transformation to f(x).\n",
    "\n",
    "Create decorated functions (using @decorator syntax): \n",
    "* cos_func(x), which computes cosine of x, and decorate it with square decorator.\n",
    "* gau_func(x), which computes 2.0 * x, and decorate it with gaussian decorator. \n",
    "* comp_func(x), which computes 2.0 * x, and decorate it with square and gaussian decorators,  such that a function $f(x)$ is modified to \n",
    "$$1-\\left(exp(-0.5*f(x)^2)\\right)^2$$   "
   ]
  },
  {
   "cell_type": "code",
   "execution_count": 4,
   "metadata": {
    "deletable": false,
    "nbgrader": {
     "checksum": "195f344873f78d31d28da53ab4196ffa",
     "grade": false,
     "grade_id": "cell-dbe1d3027a05e5a4",
     "locked": false,
     "schema_version": 1,
     "solution": true
    }
   },
   "outputs": [],
   "source": [
    "def square(func):\n",
    "    def g(*args, **kwargs):\n",
    "        return 1 - (func(*args, **kwargs)) ** 2\n",
    "    return g\n",
    "\n",
    "def gaussian(func):\n",
    "    def g(*args, **kwargs):\n",
    "        return math.exp(-0.5 * ((func(*args, **kwargs)) ** 2))\n",
    "    return g\n",
    "\n",
    "@square\n",
    "def cos_func(x):\n",
    "    return math.cos(x)\n",
    "\n",
    "@gaussian\n",
    "def gau_func(x):\n",
    "    return 2.0 * x\n",
    "\n",
    "@square\n",
    "@gaussian\n",
    "def comp_func(x):\n",
    "    return 2.0 * x"
   ]
  },
  {
   "cell_type": "code",
   "execution_count": 5,
   "metadata": {
    "deletable": false,
    "editable": false,
    "nbgrader": {
     "checksum": "2b4a13194dc1ae7c9c523dfa93103f44",
     "grade": true,
     "grade_id": "cell-73e7fae89242df32",
     "locked": true,
     "points": 1,
     "schema_version": 1,
     "solution": false
    }
   },
   "outputs": [],
   "source": [
    "#Verify square decorator for cos_func\n",
    "\n",
    "assert cos_func(0.0) == 0.0 \n",
    "\n",
    "assert cos_func(math.pi) == 0.0\n",
    "\n",
    "assert cos_func(math.pi*0.5) == 1.0 \n",
    "\n",
    "assert math.fabs(cos_func(math.pi*0.25) - 0.5) < 1.0e-6\n"
   ]
  },
  {
   "cell_type": "code",
   "execution_count": 6,
   "metadata": {
    "deletable": false,
    "editable": false,
    "nbgrader": {
     "checksum": "bac495f50dc8b7433db4aea06abb6fd6",
     "grade": true,
     "grade_id": "cell-4181fe5f998c9a96",
     "locked": true,
     "points": 1,
     "schema_version": 1,
     "solution": false
    }
   },
   "outputs": [],
   "source": [
    "#Verify gaussian decorator for gau_func\n",
    "\n",
    "assert gau_func(0.0) == 1.0 \n",
    "\n",
    "assert math.fabs(gau_func(1.0) - 0.135335283236613) < 1.0e-6 \n",
    "\n",
    "assert math.fabs(gau_func(0.5) - 0.606530659712633) < 1.0e-6 "
   ]
  },
  {
   "cell_type": "code",
   "execution_count": 7,
   "metadata": {
    "deletable": false,
    "editable": false,
    "nbgrader": {
     "checksum": "425fc7428e3eca1641ebd9972f92ae5f",
     "grade": true,
     "grade_id": "cell-fa09de3f68f4fad3",
     "locked": true,
     "points": 1,
     "schema_version": 1,
     "solution": false
    }
   },
   "outputs": [],
   "source": [
    "#Verify comp_func\n",
    "\n",
    "assert comp_func(0.0) == 0.0 \n",
    "\n",
    "comp_func(0.5)\n",
    "\n",
    "assert math.fabs(comp_func(0.5) - 0.632120558828558) < 1.0e-6 \n",
    "\n",
    "assert math.fabs(comp_func(0.3) - 0.302323673928969) < 1.0e-6 "
   ]
  },
  {
   "cell_type": "markdown",
   "metadata": {
    "deletable": false,
    "editable": false,
    "nbgrader": {
     "checksum": "45a4a010286e8feda12f012245a71104",
     "grade": false,
     "grade_id": "cell-561e1449aa1ea91f",
     "locked": true,
     "schema_version": 1,
     "solution": false
    }
   },
   "source": [
    "### C. A timer decorator\n",
    "\n",
    "In this exercise we write a decorator to report the time it takes to complete a function. Hardcoding a timer like this could look like"
   ]
  },
  {
   "cell_type": "code",
   "execution_count": 8,
   "metadata": {
    "deletable": false,
    "editable": false,
    "nbgrader": {
     "checksum": "3bb2db7f9ddab523044ed1f0542e9b04",
     "grade": false,
     "grade_id": "cell-2c6b7ea2b960c5af",
     "locked": true,
     "schema_version": 1,
     "solution": false
    }
   },
   "outputs": [],
   "source": [
    "import time\n",
    "def function_taking_time():\n",
    "    t1 = time.time()\n",
    "    time.sleep(3)\n",
    "    t2 = time.time()\n",
    "    print(\"Time spent in function_taking_time: {:.1f} seconds.\".format(t2-t1))  "
   ]
  },
  {
   "cell_type": "code",
   "execution_count": 9,
   "metadata": {
    "deletable": false,
    "editable": false,
    "nbgrader": {
     "checksum": "1524c34a42bf784780aa97cf1cdb77cc",
     "grade": false,
     "grade_id": "cell-ba2f7eb80636dabf",
     "locked": true,
     "schema_version": 1,
     "solution": false
    }
   },
   "outputs": [
    {
     "name": "stdout",
     "output_type": "stream",
     "text": [
      "Time spent in function_taking_time: 3.0 seconds.\n"
     ]
    }
   ],
   "source": [
    "function_taking_time()"
   ]
  },
  {
   "cell_type": "markdown",
   "metadata": {
    "deletable": false,
    "editable": false,
    "nbgrader": {
     "checksum": "cc02f8a3168e96b6a6e8cb0917e500ae",
     "grade": false,
     "grade_id": "cell-dd1829c86dc58aaa",
     "locked": true,
     "schema_version": 1,
     "solution": false
    }
   },
   "source": [
    "Now write a decorator `timeme` which accomplishes this for any function taking any arguments. Instead of printing to the screen write the timing info to a logfile with the same name as the function and a `.log` extension.\n",
    "\n",
    "Hint: make use of the `__name__` attribute of a function."
   ]
  },
  {
   "cell_type": "code",
   "execution_count": 10,
   "metadata": {
    "deletable": false,
    "nbgrader": {
     "checksum": "86281e29f801d336895f327755f62c23",
     "grade": false,
     "grade_id": "cell-b478018e06675d4e",
     "locked": false,
     "schema_version": 1,
     "solution": true
    }
   },
   "outputs": [],
   "source": [
    "import time\n",
    "def timeme(func):\n",
    "    def timer(*args, **kwargs):\n",
    "        import time\n",
    "        t = time.time()\n",
    "        func(*args, **kwargs)\n",
    "        t = time.time() - t\n",
    "        t = str(format(t, '.1f'))\n",
    "        thing = ('Time spent in %s: %s seconds' % (func.__name__, t))\n",
    "        with open(\"%s.log\" % (func.__name__), \"w\") as f:\n",
    "            f.write(thing)\n",
    "    return timer"
   ]
  },
  {
   "cell_type": "markdown",
   "metadata": {},
   "source": [
    "The function below appends `x` to a given list `l` if it is given as an input, otherwise it does nothing. The reported time spend in the function will reflect this when applying the completed decorator"
   ]
  },
  {
   "cell_type": "code",
   "execution_count": 11,
   "metadata": {
    "deletable": false,
    "editable": false,
    "nbgrader": {
     "checksum": "fa4f56202c96418758aa942ba83b065a",
     "grade": false,
     "grade_id": "cell-96e3bc6c54e95f34",
     "locked": true,
     "schema_version": 1,
     "solution": false
    }
   },
   "outputs": [],
   "source": [
    "@timeme\n",
    "def slow_append(l, x=None):\n",
    "    if x is not None:\n",
    "        time.sleep(3)\n",
    "        l.append(x)"
   ]
  },
  {
   "cell_type": "code",
   "execution_count": 12,
   "metadata": {
    "deletable": false,
    "editable": false,
    "nbgrader": {
     "checksum": "5ea10d73587dd3b1e034b4aa3b18fc39",
     "grade": true,
     "grade_id": "cell-4512178e73c67be5",
     "locked": true,
     "points": 1,
     "schema_version": 1,
     "solution": false
    }
   },
   "outputs": [],
   "source": [
    "l = []\n",
    "slow_append(l)\n",
    "assert open('slow_append.log').read() == \"Time spent in slow_append: 0.0 seconds\"\n",
    "assert l == []"
   ]
  },
  {
   "cell_type": "code",
   "execution_count": 13,
   "metadata": {
    "deletable": false,
    "editable": false,
    "nbgrader": {
     "checksum": "72a6e94d6efcc023ebd912aabb2585cb",
     "grade": true,
     "grade_id": "cell-e3b9db4ad3bedd1c",
     "locked": true,
     "points": 1,
     "schema_version": 1,
     "solution": false
    }
   },
   "outputs": [],
   "source": [
    "l = [1, 2]\n",
    "slow_append(l, x=3)\n",
    "assert open('slow_append.log').read() == \"Time spent in slow_append: 3.0 seconds\"\n",
    "assert l == [1, 2, 3]"
   ]
  },
  {
   "cell_type": "code",
   "execution_count": null,
   "metadata": {},
   "outputs": [],
   "source": []
  }
 ],
 "metadata": {
  "kernelspec": {
   "display_name": "Python 3",
   "language": "python",
   "name": "python3"
  },
  "language_info": {
   "codemirror_mode": {
    "name": "ipython",
    "version": 3
   },
   "file_extension": ".py",
   "mimetype": "text/x-python",
   "name": "python",
   "nbconvert_exporter": "python",
   "pygments_lexer": "ipython3",
   "version": "3.6.5"
  }
 },
 "nbformat": 4,
 "nbformat_minor": 2
}
