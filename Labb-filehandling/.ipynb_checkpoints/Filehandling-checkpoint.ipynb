{
 "cells": [
  {
   "cell_type": "markdown",
   "metadata": {},
   "source": [
    "Before you turn this problem in, make sure everything runs as expected. First, **restart the kernel** (in the menubar, select Kernel$\\rightarrow$Restart) and then **run all cells** (in the menubar, select Cell$\\rightarrow$Run All).\n",
    "\n",
    "Make sure you fill in any place that says `YOUR CODE HERE` or \"YOUR ANSWER HERE\", as well as your name and collaborators below:"
   ]
  },
  {
   "cell_type": "code",
   "execution_count": 1,
   "metadata": {},
   "outputs": [],
   "source": [
    "NAME = \"Isac Ingfeldt\"\n",
    "COLLABORATORS = \"None\""
   ]
  },
  {
   "cell_type": "markdown",
   "metadata": {},
   "source": [
    "---"
   ]
  },
  {
   "cell_type": "markdown",
   "metadata": {},
   "source": [
    "## Filehandling\n",
    "\n",
    "Welcome to the excercises of Filehandling."
   ]
  },
  {
   "cell_type": "markdown",
   "metadata": {
    "deletable": false,
    "editable": false,
    "nbgrader": {
     "checksum": "e2835e21bd464ff718cdd638e0d0ba1f",
     "grade": false,
     "grade_id": "cell-f44a5a1eae58143a",
     "locked": true,
     "schema_version": 1,
     "solution": false
    }
   },
   "source": [
    "## Exercise 1\n",
    "\n",
    "(a) Copy the content of a file ('1_ext_file' - content boils down to one number per line) to a new file ('my_new_file'). Write a program which asks the user for a decimal number (e.g. 5.23), makes the sum with '42', and add the original number as well as the result of the sum to 'my_new_file'."
   ]
  },
  {
   "cell_type": "code",
   "execution_count": 2,
   "metadata": {
    "deletable": false,
    "nbgrader": {
     "checksum": "c57098a39c320e73a5463ab14ce52837",
     "grade": false,
     "grade_id": "cell-ae39b06da150bd12",
     "locked": false,
     "schema_version": 1,
     "solution": true
    }
   },
   "outputs": [
    {
     "name": "stdout",
     "output_type": "stream",
     "text": [
      "Enter Decimal number: 2.2\n"
     ]
    }
   ],
   "source": [
    "f = open('1_ext_file','r')\n",
    "new = open(\"my_new_file\", 'w')\n",
    "\n",
    "decimal = input('Enter Decimal number: ')\n",
    "decimal = float(decimal)\n",
    "\n",
    "sum = decimal + 42\n",
    "\n",
    "for line in f.readlines():\n",
    "    new.write(line)\n",
    "\n",
    "decimal = str(decimal)\n",
    "sum = str(sum)\n",
    "new.write(decimal + '\\n')\n",
    "new.write(sum)\n",
    "new.close()\n"
   ]
  },
  {
   "cell_type": "code",
   "execution_count": 5,
   "metadata": {
    "deletable": false,
    "editable": false,
    "nbgrader": {
     "checksum": "6182e5be39490ee15db9f553762c8c3e",
     "grade": true,
     "grade_id": "cell-4602de186f9af5f6",
     "locked": true,
     "points": 0,
     "schema_version": 1,
     "solution": false
    }
   },
   "outputs": [],
   "source": [
    "out=open(\"my_new_file\", 'r')\n",
    "lines=out.readlines()\n",
    "out.close()\n",
    "assert len(lines)==7\n",
    "number = float(lines[6])-float(lines[5])\n",
    "assert number == 42"
   ]
  },
  {
   "cell_type": "markdown",
   "metadata": {
    "deletable": false,
    "editable": false,
    "nbgrader": {
     "checksum": "3655ab7a2abb3ebbbdd807873c7b068f",
     "grade": false,
     "grade_id": "cell-ddb6266f7f37c71c",
     "locked": true,
     "schema_version": 1,
     "solution": false
    }
   },
   "source": [
    "(b) Calculate the average of all numbers in this file and write the output to a file with extension \".e2\". As we didn't study it yet, do not use numpy.  "
   ]
  },
  {
   "cell_type": "code",
   "execution_count": 6,
   "metadata": {
    "deletable": false,
    "nbgrader": {
     "checksum": "5a92637d482ab82a36ab03338ef37a31",
     "grade": false,
     "grade_id": "cell-6633a9afdc8fbbd3",
     "locked": false,
     "schema_version": 1,
     "solution": true
    }
   },
   "outputs": [
    {
     "ename": "TypeError",
     "evalue": "'str' object is not callable",
     "output_type": "error",
     "traceback": [
      "\u001b[0;31m---------------------------------------------------------------------------\u001b[0m",
      "\u001b[0;31mTypeError\u001b[0m                                 Traceback (most recent call last)",
      "\u001b[0;32m<ipython-input-6-662f9ac27bdc>\u001b[0m in \u001b[0;36m<module>\u001b[0;34m()\u001b[0m\n\u001b[1;32m      8\u001b[0m \u001b[0;34m\u001b[0m\u001b[0m\n\u001b[1;32m      9\u001b[0m \u001b[0;34m\u001b[0m\u001b[0m\n\u001b[0;32m---> 10\u001b[0;31m \u001b[0ms\u001b[0m \u001b[0;34m=\u001b[0m \u001b[0msum\u001b[0m\u001b[0;34m(\u001b[0m\u001b[0mnumbers\u001b[0m\u001b[0;34m)\u001b[0m\u001b[0;34m\u001b[0m\u001b[0m\n\u001b[0m\u001b[1;32m     11\u001b[0m \u001b[0mm\u001b[0m \u001b[0;34m=\u001b[0m \u001b[0ms\u001b[0m\u001b[0;34m/\u001b[0m\u001b[0mlen\u001b[0m\u001b[0;34m(\u001b[0m\u001b[0mnumbers\u001b[0m\u001b[0;34m)\u001b[0m\u001b[0;34m\u001b[0m\u001b[0m\n\u001b[1;32m     12\u001b[0m \u001b[0mm\u001b[0m \u001b[0;34m=\u001b[0m \u001b[0mstr\u001b[0m\u001b[0;34m(\u001b[0m\u001b[0mm\u001b[0m\u001b[0;34m)\u001b[0m\u001b[0;34m\u001b[0m\u001b[0m\n",
      "\u001b[0;31mTypeError\u001b[0m: 'str' object is not callable"
     ]
    }
   ],
   "source": [
    "f = open(\"1_ext_file\", 'r')\n",
    "mean = open(\"1_ext_file.e2\",'w')\n",
    "\n",
    "numbers=[]\n",
    "for line in f.readlines():\n",
    "    line = float(line)\n",
    "    numbers.append(line)\n",
    "\n",
    "\n",
    "s = sum(numbers)\n",
    "m = s/len(numbers)\n",
    "m = str(m)\n",
    "\n",
    "mean.write(m)\n",
    "mean.close()\n"
   ]
  },
  {
   "cell_type": "markdown",
   "metadata": {
    "deletable": false,
    "editable": false,
    "nbgrader": {
     "checksum": "9812eff8c6c340e986c1f6ea448b229c",
     "grade": false,
     "grade_id": "cell-c4d1471b15f111de",
     "locked": true,
     "schema_version": 1,
     "solution": false
    }
   },
   "source": [
    "(For the testing from the other hand, numpy is used. When you first run this test, you might need to install numpy. You do that by removing the '#' in the second lind. It will take a couple of minutes. Dependent on the installation, a not-so-important message about newer versions of conda might appear. Afterwards, you can again put the '#'.)"
   ]
  },
  {
   "cell_type": "code",
   "execution_count": null,
   "metadata": {
    "deletable": false,
    "editable": false,
    "nbgrader": {
     "checksum": "bd5dfe4d259367f560347de7ea18ae72",
     "grade": true,
     "grade_id": "cell-57d364dc4a9aa299",
     "locked": true,
     "points": 0,
     "schema_version": 1,
     "solution": false
    }
   },
   "outputs": [],
   "source": [
    "import sys\n",
    "#!conda install --yes --prefix {sys.prefix} numpy\n",
    "import numpy as np\n",
    "file_in=open(\"1_ext_file\", 'r')\n",
    "lines=file_in.readlines()\n",
    "file_in.close()\n",
    "lines_n=[]\n",
    "for i in range(len(lines)):\n",
    "    lines_n.append(float(lines[i]))\n",
    "svalue=np.mean(lines_n)\n",
    "file_in2=open(\"1_ext_file.e2\", 'r')\n",
    "line=file_in2.readline()\n",
    "file_in2.close()\n",
    "assert round(float(line[:]),3) == round(svalue,3) "
   ]
  },
  {
   "cell_type": "markdown",
   "metadata": {
    "deletable": false,
    "editable": false,
    "nbgrader": {
     "checksum": "f56873a029992dded1c0e0a34ddbf971",
     "grade": false,
     "grade_id": "cell-3f93d49267f64f2c",
     "locked": true,
     "schema_version": 1,
     "solution": false
    }
   },
   "source": [
    "## Exercise 2\n",
    "\n",
    "A file is called ordered if there is an order defined on the data given in the file and if these data are ordered in an ascending order. Imagine that on the two ordered files '2_f' and '2_g' each number is given on one line (a number only appears once in this exercise; '2_f' and '2_g' may contain different amount of numbers). Write a program which merges '2_f' and '2_g' to one newly ordered file '2_h'. "
   ]
  },
  {
   "cell_type": "code",
   "execution_count": null,
   "metadata": {
    "deletable": false,
    "nbgrader": {
     "checksum": "af1eb28ce1805b37a6bc0629a592f05f",
     "grade": false,
     "grade_id": "cell-dd5792c551a40b46",
     "locked": false,
     "schema_version": 1,
     "solution": true
    }
   },
   "outputs": [],
   "source": [
    "f2 = open('2_f', 'r')\n",
    "g2 = open('2_g', 'r')\n",
    "\n",
    "listf2=[]\n",
    "listg2=[]\n",
    "\n",
    "for line in f2.readlines():\n",
    "    line = float(line)\n",
    "    listf2.append(line)\n",
    "\n",
    "for line in g2.readlines():\n",
    "    line = float(line)\n",
    "    listg2.append(line)\n",
    "\n",
    "listh2 = listg2 + listf2\n",
    "listh2 = sorted(listh2)\n",
    "listh2 = str(listh2)\n",
    "\n",
    "h2 = open('2_h' ,'w')\n",
    "h2.write(listh2)\n",
    "h2.close()\n"
   ]
  },
  {
   "cell_type": "code",
   "execution_count": null,
   "metadata": {
    "deletable": false,
    "editable": false,
    "nbgrader": {
     "checksum": "761d919f994b85b40fd5096171dda8d4",
     "grade": true,
     "grade_id": "cell-7b87ce187bc2a922",
     "locked": true,
     "points": 0,
     "schema_version": 1,
     "solution": false
    }
   },
   "outputs": [],
   "source": [
    "hread = open(\"2_h\", 'r')\n",
    "\n",
    "lines=hread.readlines()\n",
    "\n",
    "for i in range(len(lines)-1):\n",
    "    assert int(lines[i]) < int(lines[i+1])\n",
    "    \n",
    "hread.close()"
   ]
  },
  {
   "cell_type": "markdown",
   "metadata": {
    "deletable": false,
    "editable": false,
    "nbgrader": {
     "checksum": "e05d88350a1197ceabd9c27d8863bc0a",
     "grade": false,
     "grade_id": "cell-8ed8fab8a5730197",
     "locked": true,
     "schema_version": 1,
     "solution": false
    }
   },
   "source": [
    "## Exercise 3\n",
    "\n",
    "Write a program which writes the text from input-file '3_given_file_story' in the file '3_output', taking into account the line-partition and a screen width of 70 characters."
   ]
  },
  {
   "cell_type": "code",
   "execution_count": null,
   "metadata": {
    "deletable": false,
    "nbgrader": {
     "checksum": "53a56fa469e350c0e9c5859e141299a6",
     "grade": false,
     "grade_id": "cell-365c8f325e244fef",
     "locked": false,
     "schema_version": 1,
     "solution": true
    }
   },
   "outputs": [],
   "source": [
    "text = open(\"3_given_file_story\", \"r\")\n",
    "output = open('3_output', 'w')\n",
    "\n",
    "str_list = []\n",
    "for line in text.readlines():\n",
    "    str_list.append(line.rstrip())\n",
    "\n",
    "del str_list[1] #Empty Line\n",
    "\n",
    "string = str_list[0] + str_list[1]\n",
    "\n",
    "l = len(string)\n",
    "max_len = 70\n",
    "\n",
    "for i in range(0,l,max_len):\n",
    "    split_line = string[i:i + max_len]\n",
    "    print(split_line)\n",
    "    output.write(split_line + '\\n')\n",
    "\n",
    "output.close()\n"
   ]
  },
  {
   "cell_type": "code",
   "execution_count": null,
   "metadata": {
    "deletable": false,
    "editable": false,
    "nbgrader": {
     "checksum": "a75c19fa4b73327468f2b08027439676",
     "grade": true,
     "grade_id": "cell-d8534b416f4b82f5",
     "locked": true,
     "points": 0,
     "schema_version": 1,
     "solution": false
    }
   },
   "outputs": [],
   "source": [
    "output_file = open(\"3_output\", 'r')\n",
    "lines=output_file.readlines()\n",
    "assert len(lines)==6\n",
    "for i in range(len(lines)):\n",
    "    assert len(lines[i]) <= 70\n",
    "assert lines[4].split()[0]=='Now'\n",
    "output_file.close()"
   ]
  },
  {
   "cell_type": "markdown",
   "metadata": {
    "deletable": false,
    "editable": false,
    "nbgrader": {
     "checksum": "0eee1711b50412d4635eccfe860b70ad",
     "grade": false,
     "grade_id": "cell-843d1b8d6c0360ec",
     "locked": true,
     "schema_version": 1,
     "solution": false
    }
   },
   "source": [
    "## Exercise 4\n",
    "\n",
    "Write a script that will return as many numbers in the Fibonacci sequence (on different lines in a file 'exercise_4.output') as the user requires.  "
   ]
  },
  {
   "cell_type": "code",
   "execution_count": null,
   "metadata": {
    "deletable": false,
    "nbgrader": {
     "checksum": "a42b2e45d569595651923d40a9e2c257",
     "grade": false,
     "grade_id": "cell-66ef52ba65ef5188",
     "locked": false,
     "schema_version": 1,
     "solution": true
    }
   },
   "outputs": [],
   "source": [
    "output = open('exercise_4.output', 'w')\n",
    "\n",
    "n = 20\n",
    "fib = []\n",
    "for i in range(n):\n",
    "    if i == 0:\n",
    "        m = 0\n",
    "    elif i == 1:\n",
    "        m = 1\n",
    "    else:\n",
    "        m = fib[i-1] + fib[i-2]\n",
    "    fib.append(m)\n",
    "    m = str(m)\n",
    "    output.write(m + '\\n')\n",
    "output.close()\n"
   ]
  },
  {
   "cell_type": "code",
   "execution_count": null,
   "metadata": {
    "deletable": false,
    "editable": false,
    "nbgrader": {
     "checksum": "68da70c49b401e9b387aa21dbefbbe84",
     "grade": true,
     "grade_id": "cell-6c7a15828e87d9bd",
     "locked": true,
     "points": 0,
     "schema_version": 1,
     "solution": false
    }
   },
   "outputs": [],
   "source": [
    "#If the Fibonacci sequence is correct, then \n",
    "#the sum of the n numbers is equal to the (n+2)th number minus 1\n",
    "output_file = open(\"exercise_4.output\", 'r')\n",
    "lines = output_file.readlines()\n",
    "listn = []\n",
    "for i in range(len(lines)):\n",
    "    listn.append(int(lines[i]))\n",
    "tot_sum = sum(listn)\n",
    "npo = listn[len(listn)-1]+listn[len(listn)-2]\n",
    "npp = npo+listn[len(listn)-1]\n",
    "final_test = npp-1\n",
    "assert tot_sum == final_test                 \n",
    "output_file.close()"
   ]
  },
  {
   "cell_type": "markdown",
   "metadata": {
    "deletable": false,
    "editable": false,
    "nbgrader": {
     "checksum": "9dda502c00b756655cca628cbf6b4519",
     "grade": false,
     "grade_id": "cell-862c52d19472bde9",
     "locked": true,
     "schema_version": 1,
     "solution": false
    }
   },
   "source": [
    "## Exercise 5\n",
    "\n",
    "Write a program which writes out the 'Sum of electronic and thermal Enthalpies' (in Hartree) in a column in the outputfile 'Exercise_5_output'. Round the values to two decimals. Inputfile: Laurdan_0_va.log. Calculate the average value and write it as a last value in the outputfile. "
   ]
  },
  {
   "cell_type": "code",
   "execution_count": null,
   "metadata": {
    "deletable": false,
    "nbgrader": {
     "checksum": "b3bade5a20a7285b238633431b5677cc",
     "grade": false,
     "grade_id": "cell-14265ad1ce8cd71a",
     "locked": false,
     "schema_version": 1,
     "solution": true
    }
   },
   "outputs": [],
   "source": [
    "data = open('Laurdan_0_va.log','r')\n",
    "output = open(\"Exercise_5_output\",'w')\n",
    "values = []\n",
    "mean = 0\n",
    "n = 0\n",
    "for line in data.readlines():\n",
    "    if 'Sum of electronic and thermal Enthalpies' in line:\n",
    "        value = float(line[53:])\n",
    "        value = round(value,2)\n",
    "        values.append(value)\n",
    "        mean = mean + value\n",
    "        value = str(value)\n",
    "        output.write(value + '\\n')\n",
    "        n += 1\n",
    "\n",
    "mean = mean/n\n",
    "mean = round(mean,2)\n",
    "mean = str(mean)\n",
    "output.write(mean)\n",
    "output.close()"
   ]
  },
  {
   "cell_type": "code",
   "execution_count": null,
   "metadata": {
    "deletable": false,
    "editable": false,
    "nbgrader": {
     "checksum": "03543bb7f32a21277e7fceebb3bd3ad9",
     "grade": true,
     "grade_id": "cell-e7f80356fc8354ec",
     "locked": true,
     "points": 0,
     "schema_version": 1,
     "solution": false
    }
   },
   "outputs": [],
   "source": [
    "import numpy as np\n",
    "Wf=open(\"Exercise_5_output\",'r')\n",
    "lines = Wf.readlines()\n",
    "tot_num=len(lines)\n",
    "assert len(lines) == 26\n",
    "for i in range(len(lines)):\n",
    "    number_out = lines[i][lines[i].find(\".\")+1:]\n",
    "    assert int(number_out) < 100\n",
    "newlist=[]\n",
    "for i in range(len(lines)-1):\n",
    "    newlist.append(round(float(lines[i]),2))\n",
    "ave=np.mean(newlist)\n",
    "assert round(ave,2) == round(float(lines[len(lines)-1]),2)\n",
    "Wf.close()"
   ]
  },
  {
   "cell_type": "code",
   "execution_count": null,
   "metadata": {},
   "outputs": [],
   "source": []
  }
 ],
 "metadata": {
  "kernelspec": {
   "display_name": "Python 3",
   "language": "python",
   "name": "python3"
  },
  "language_info": {
   "codemirror_mode": {
    "name": "ipython",
    "version": 3
   },
   "file_extension": ".py",
   "mimetype": "text/x-python",
   "name": "python",
   "nbconvert_exporter": "python",
   "pygments_lexer": "ipython3",
   "version": "3.6.3"
  }
 },
 "nbformat": 4,
 "nbformat_minor": 2
}
