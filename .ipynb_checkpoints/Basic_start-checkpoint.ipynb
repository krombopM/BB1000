{
 "cells": [
  {
   "cell_type": "markdown",
   "metadata": {},
   "source": [
    "Before you turn this problem in, make sure everything runs as expected. First, **restart the kernel** (in the menubar, select Kernel$\\rightarrow$Restart) and then **run all cells** (in the menubar, select Cell$\\rightarrow$Run All).\n",
    "\n",
    "Make sure you fill in any place that says `YOUR CODE HERE` or \"YOUR ANSWER HERE\", as well as your name and collaborators below:"
   ]
  },
  {
   "cell_type": "code",
   "execution_count": 1,
   "metadata": {},
   "outputs": [],
   "source": [
    "NAME = \"Emil Spåre\"\n",
    "COLLABORATORS = \"\""
   ]
  },
  {
   "cell_type": "markdown",
   "metadata": {},
   "source": [
    "---"
   ]
  },
  {
   "cell_type": "markdown",
   "metadata": {
    "deletable": false,
    "editable": false,
    "nbgrader": {
     "checksum": "20e49a473d1a1e7d08cd78f3d5524c5e",
     "grade": false,
     "grade_id": "cell-9e554c81ebd3dbbe",
     "locked": true,
     "schema_version": 1,
     "solution": false
    }
   },
   "source": [
    "### Basic start\n",
    "\n",
    "A Python manual can be found under https://www.python.org; an overview of the possibilities of Python can be found under https://perso.limsi.fr/pointal/python:memento."
   ]
  },
  {
   "cell_type": "markdown",
   "metadata": {
    "deletable": false,
    "editable": false,
    "nbgrader": {
     "checksum": "f567a8a512e474845d6f7d1b8c01a3b3",
     "grade": false,
     "grade_id": "cell-d841305055b00f7f",
     "locked": true,
     "schema_version": 1,
     "solution": false
    }
   },
   "source": [
    "#### Exercise 1\n",
    "Write a function 'max_2()' that accepts two numbers as parameters and that prints the larger number to the screen. For this elementary exercise, do not use the built-in function 'max()' - just revert to elementary expressions and statements."
   ]
  },
  {
   "cell_type": "code",
   "execution_count": 2,
   "metadata": {
    "deletable": false,
    "nbgrader": {
     "checksum": "10db2859068fc93ac31045bdab1b26f9",
     "grade": false,
     "grade_id": "cell-ee8c56c7cc588b03",
     "locked": false,
     "schema_version": 1,
     "solution": true
    }
   },
   "outputs": [
    {
     "name": "stdout",
     "output_type": "stream",
     "text": [
      "The maximum of 3 and 5 is 5\n"
     ]
    }
   ],
   "source": [
    "def max_2(x,y):\n",
    "    # YOUR CODE HERE\n",
    "    if x > y:\n",
    "        return(x)\n",
    "    else:\n",
    "        return(y)\n",
    "\n",
    "a=3\n",
    "b=5\n",
    "\n",
    "print(\"The maximum of %d and %d is %d\" % (a, b, max_2(a, b)))"
   ]
  },
  {
   "cell_type": "code",
   "execution_count": 3,
   "metadata": {
    "deletable": false,
    "editable": false,
    "nbgrader": {
     "checksum": "7b1845075369a33e6208198f5e8e7894",
     "grade": true,
     "grade_id": "cell-304328f9c7d4c051",
     "locked": true,
     "points": 0,
     "schema_version": 1,
     "solution": false
    }
   },
   "outputs": [],
   "source": [
    "assert max_2(2,6)==6"
   ]
  },
  {
   "cell_type": "markdown",
   "metadata": {
    "deletable": false,
    "editable": false,
    "nbgrader": {
     "checksum": "efd87900dc98b0724f4e7935f546b746",
     "grade": false,
     "grade_id": "cell-d94e5fefe3b20a09",
     "locked": true,
     "schema_version": 1,
     "solution": false
    }
   },
   "source": [
    "Rewrite the print statement so that the maximum of five numbers is written out: \"The maximum of a, b, c, d, and e is...\". Use the same 'max_2()' function.   "
   ]
  },
  {
   "cell_type": "code",
   "execution_count": 4,
   "metadata": {
    "deletable": false,
    "nbgrader": {
     "checksum": "667eea058181b5b8d24faa12733f4014",
     "grade": false,
     "grade_id": "cell-93a170e9b05f7b24",
     "locked": false,
     "schema_version": 1,
     "solution": true
    }
   },
   "outputs": [
    {
     "name": "stdout",
     "output_type": "stream",
     "text": [
      "The maximum of 3, 5, 4, 6 and 1 is 6\n"
     ]
    }
   ],
   "source": [
    "a=3\n",
    "b=5\n",
    "c=4\n",
    "d=6\n",
    "e=1\n",
    "\n",
    "# YOUR CODE HERE\n",
    "def max_2(f, g, h, i, j):\n",
    "    # YOUR CODE HERE\n",
    "    x = [f, g, h, i, j]\n",
    "    x.sort()\n",
    "    return(x[-1])\n",
    "            \n",
    "a=3\n",
    "b=5\n",
    "\n",
    "print(\"The maximum of %d, %d, %d, %d and %d is %d\" % (a, b, c, d, e, max_2(a, b, c, d, e)))"
   ]
  },
  {
   "cell_type": "markdown",
   "metadata": {
    "deletable": false,
    "editable": false,
    "nbgrader": {
     "checksum": "5f9f6fd177c1ecc0270a86cc28d11643",
     "grade": false,
     "grade_id": "cell-7e57cd736d5abc19",
     "locked": true,
     "schema_version": 1,
     "solution": false
    }
   },
   "source": [
    "#### Exercise 2\n",
    "\n",
    "A function to describe the length of a string 'n' can be given by"
   ]
  },
  {
   "cell_type": "code",
   "execution_count": 5,
   "metadata": {
    "deletable": false,
    "editable": false,
    "nbgrader": {
     "checksum": "ab5a1f39bf322096c99e77c4c43243e1",
     "grade": false,
     "grade_id": "cell-9a161c2b37dc4283",
     "locked": true,
     "schema_version": 1,
     "solution": false
    }
   },
   "outputs": [],
   "source": [
    "def string_length( n ):\n",
    "    u=len(n)\n",
    "    return u"
   ]
  },
  {
   "cell_type": "markdown",
   "metadata": {
    "deletable": false,
    "editable": false,
    "nbgrader": {
     "checksum": "f9d55772d1f6225001fc4da4d5d28000",
     "grade": false,
     "grade_id": "cell-d4b3e006917c1589",
     "locked": true,
     "schema_version": 1,
     "solution": false
    }
   },
   "source": [
    "Write 'len(n)' in terms of elementary expressions and statements."
   ]
  },
  {
   "cell_type": "code",
   "execution_count": 6,
   "metadata": {
    "deletable": false,
    "nbgrader": {
     "checksum": "75fbc15774b32c61a635e44945cc138e",
     "grade": false,
     "grade_id": "cell-b607688727ab57f1",
     "locked": false,
     "schema_version": 1,
     "solution": true
    }
   },
   "outputs": [
    {
     "name": "stdout",
     "output_type": "stream",
     "text": [
      "The length of the string is 43\n"
     ]
    }
   ],
   "source": [
    "def string_length2( n ):\n",
    "    # YOUR CODE HERE\n",
    "    x = list(n)\n",
    "    y = 0\n",
    "    for item in x:\n",
    "        y += 1\n",
    "    return(y)\n",
    "\n",
    "n= 'Obelix did fall into the pot of the druide.'\n",
    "print (\"The length of the string is %d\" % string_length2(n))"
   ]
  },
  {
   "cell_type": "code",
   "execution_count": 7,
   "metadata": {
    "deletable": false,
    "editable": false,
    "nbgrader": {
     "checksum": "94f93a029597a6cf00e189b5384741be",
     "grade": true,
     "grade_id": "cell-24ac435261756312",
     "locked": true,
     "points": 0,
     "schema_version": 1,
     "solution": false
    }
   },
   "outputs": [],
   "source": [
    "assert string_length2('Exercise is correct')==19"
   ]
  },
  {
   "cell_type": "markdown",
   "metadata": {
    "deletable": false,
    "editable": false,
    "nbgrader": {
     "checksum": "edc6afb67bfc93230825f89696dd4b47",
     "grade": false,
     "grade_id": "cell-649402c4c98490ef",
     "locked": true,
     "schema_version": 1,
     "solution": false
    }
   },
   "source": [
    "#### Exercise 3\n",
    "\n",
    "A palindrome is a word which is the same word when it is read from left to right as from right to left. Write a function 'is_palindrome()' that checks if a word is a palindrome, e.g. is_palindrome(\"noon\") --> True. "
   ]
  },
  {
   "cell_type": "code",
   "execution_count": 8,
   "metadata": {
    "deletable": false,
    "nbgrader": {
     "checksum": "ab5939510544c9346145c199f43f8415",
     "grade": false,
     "grade_id": "cell-b555fc0823ca1ecf",
     "locked": false,
     "schema_version": 1,
     "solution": true
    }
   },
   "outputs": [
    {
     "data": {
      "text/plain": [
       "True"
      ]
     },
     "execution_count": 8,
     "metadata": {},
     "output_type": "execute_result"
    }
   ],
   "source": [
    "def is_palindrome( n ):\n",
    "    # YOUR CODE HERE\n",
    "    m = list(reversed(n))\n",
    "    l = \"\".join(m)\n",
    "    if l == n:\n",
    "        return(True)\n",
    "    else:\n",
    "        return(False)\n",
    "is_palindrome(\"noon\")"
   ]
  },
  {
   "cell_type": "code",
   "execution_count": 9,
   "metadata": {
    "deletable": false,
    "editable": false,
    "nbgrader": {
     "checksum": "7e722a43101ab870bd97433714e3cd8c",
     "grade": true,
     "grade_id": "cell-499ffeac6ffa1eb3",
     "locked": true,
     "points": 0,
     "schema_version": 1,
     "solution": false
    }
   },
   "outputs": [],
   "source": [
    "assert is_palindrome(\"rotor\")==True"
   ]
  },
  {
   "cell_type": "markdown",
   "metadata": {
    "deletable": false,
    "editable": false,
    "nbgrader": {
     "checksum": "8222a4069ddfee1004d47a99c7bd5312",
     "grade": false,
     "grade_id": "cell-60e48bfeca48f3f3",
     "locked": true,
     "schema_version": 1,
     "solution": false
    }
   },
   "source": [
    "A phrase is a palindrome if the word, which is obtained by omitting all non-letters as well as by interchanging all capital letters by their small counterparts, is a palondrome. A famous example of such a phrase is \"A man, a plan, a canal: Panama.\"\n",
    "Write a program which checks whether a phrase is a palindrome. "
   ]
  },
  {
   "cell_type": "code",
   "execution_count": 10,
   "metadata": {
    "deletable": false,
    "nbgrader": {
     "checksum": "425a5e5d8ee761ff2f501a2a73c00c6d",
     "grade": false,
     "grade_id": "cell-6296442ff4958ebb",
     "locked": false,
     "schema_version": 1,
     "solution": true
    }
   },
   "outputs": [
    {
     "name": "stdout",
     "output_type": "stream",
     "text": [
      "The phrase 'A man, a plan, a canal: Panama.' is a palindrome: True\n"
     ]
    }
   ],
   "source": [
    "def is_palindrome_phrase(w):\n",
    "    # YOUR CODE HERE\n",
    "    a = w.lower()\n",
    "    b = list(a)\n",
    "    c = []\n",
    "    for item in a:\n",
    "        if item.isalpha():\n",
    "            c.append(item)\n",
    "    d = \"\".join(c)\n",
    "    e = \"\".join(reversed(c))\n",
    "    if d == e:\n",
    "        return(True)\n",
    "    else:\n",
    "        return(False)\n",
    "\n",
    "phrase = \"A man, a plan, a canal: Panama.\"    \n",
    "print (\"The phrase '%s' is a palindrome: %s\" %  (phrase, is_palindrome_phrase(phrase)))"
   ]
  },
  {
   "cell_type": "code",
   "execution_count": 11,
   "metadata": {
    "deletable": false,
    "editable": false,
    "nbgrader": {
     "checksum": "a9b7e096166895211790ec9435d02a8b",
     "grade": true,
     "grade_id": "cell-8fb5a5d12a7a6877",
     "locked": true,
     "points": 0,
     "schema_version": 1,
     "solution": false
    }
   },
   "outputs": [],
   "source": [
    "assert is_palindrome_phrase('Doc, note, I Dissent. A fast never prevents a fatness! I diet on cod.')==True"
   ]
  },
  {
   "cell_type": "markdown",
   "metadata": {
    "deletable": false,
    "editable": false,
    "nbgrader": {
     "checksum": "57782f934663e72cdced3ea88b21f972",
     "grade": false,
     "grade_id": "cell-0fcb64dce5cad45f",
     "locked": true,
     "schema_version": 1,
     "solution": false
    }
   },
   "source": [
    "#### Exercise 4\n",
    "\n",
    "Write a function that tests (True/False) if a number or character 'v' is present in a list of values or a string 'l'."
   ]
  },
  {
   "cell_type": "code",
   "execution_count": 12,
   "metadata": {
    "deletable": false,
    "nbgrader": {
     "checksum": "d2eee70d001a78ddfac153050349bafc",
     "grade": false,
     "grade_id": "cell-406e03b5da076705",
     "locked": false,
     "schema_version": 1,
     "solution": true
    }
   },
   "outputs": [
    {
     "name": "stdout",
     "output_type": "stream",
     "text": [
      "Is 5 a member of the list? True\n"
     ]
    }
   ],
   "source": [
    "def is_member(v,l):\n",
    "    # YOUR CODE HERE\n",
    "    for item in l:\n",
    "        if item == v:\n",
    "            return(True)\n",
    "    return(False)\n",
    "        \n",
    "\n",
    "v=5                                                                            \n",
    "l=[4,3,2,5]\n",
    "\n",
    "print(\"Is 5 a member of the list? %s\" % (is_member(v,l)))"
   ]
  },
  {
   "cell_type": "code",
   "execution_count": 13,
   "metadata": {
    "deletable": false,
    "editable": false,
    "nbgrader": {
     "checksum": "c2b0cc0ca9b629e88176d1a87768692a",
     "grade": true,
     "grade_id": "cell-51bd927fdfdc4c8a",
     "locked": true,
     "points": 0,
     "schema_version": 1,
     "solution": false
    }
   },
   "outputs": [],
   "source": [
    "assert is_member(6,l)==False"
   ]
  },
  {
   "cell_type": "code",
   "execution_count": 14,
   "metadata": {
    "deletable": false,
    "nbgrader": {
     "checksum": "d19c8b4fd6cf185cfadaf66d6b13fcee",
     "grade": false,
     "grade_id": "cell-ca070876e62a4658",
     "locked": false,
     "schema_version": 1,
     "solution": true
    }
   },
   "outputs": [
    {
     "name": "stdout",
     "output_type": "stream",
     "text": [
      "Is x a member of panoramix? True\n"
     ]
    }
   ],
   "source": [
    "# YOUR CODE HERE\n",
    "thing = \"x\"\n",
    "container = \"panoramix\"\n",
    "print(\"Is %s a member of %s? %s\" % (thing, container, is_member(thing, container)))"
   ]
  },
  {
   "cell_type": "code",
   "execution_count": 15,
   "metadata": {
    "deletable": false,
    "editable": false,
    "nbgrader": {
     "checksum": "0422d0252a9b8aa782e8b0d2857fd650",
     "grade": true,
     "grade_id": "cell-031caa7cd3eb4e3b",
     "locked": true,
     "points": 0,
     "schema_version": 1,
     "solution": false
    }
   },
   "outputs": [],
   "source": [
    "assert is_member(\"x\",\"panoramix\")==True"
   ]
  },
  {
   "cell_type": "markdown",
   "metadata": {
    "deletable": false,
    "editable": false,
    "nbgrader": {
     "checksum": "7b9547e7aa28880d9bf9a3f44818fe44",
     "grade": false,
     "grade_id": "cell-13e5f10550fc2b5e",
     "locked": true,
     "schema_version": 1,
     "solution": false
    }
   },
   "source": [
    "#### Exercise 5\n",
    "\n",
    "Write a function 'generate_string(n,c)' which generates a string which consists out of 'n' times the characther 'c'. Use a loop and add each time a new character 'c' to the string."
   ]
  },
  {
   "cell_type": "code",
   "execution_count": 16,
   "metadata": {
    "deletable": false,
    "nbgrader": {
     "checksum": "d97ba5ff1a8844b91ca2bd4f3756ffdc",
     "grade": false,
     "grade_id": "cell-bdafd275123a0ab4",
     "locked": false,
     "schema_version": 1,
     "solution": true
    }
   },
   "outputs": [
    {
     "data": {
      "text/plain": [
       "'kkkkkk'"
      ]
     },
     "execution_count": 16,
     "metadata": {},
     "output_type": "execute_result"
    }
   ],
   "source": [
    "def generate_string(n,c):\n",
    "    # YOUR CODE HERE\n",
    "    thing = \"\"\n",
    "    while n > 0:\n",
    "        thing += c\n",
    "        n -= 1\n",
    "    return(thing)\n",
    "\n",
    "generate_string(6,'k')"
   ]
  },
  {
   "cell_type": "code",
   "execution_count": 17,
   "metadata": {
    "deletable": false,
    "editable": false,
    "nbgrader": {
     "checksum": "b4b110712b3d9adae146463704099287",
     "grade": true,
     "grade_id": "cell-481d83412f434b99",
     "locked": true,
     "points": 0,
     "schema_version": 1,
     "solution": false
    }
   },
   "outputs": [],
   "source": [
    "assert generate_string(3,'s')=='sss'"
   ]
  },
  {
   "cell_type": "markdown",
   "metadata": {
    "deletable": false,
    "editable": false,
    "nbgrader": {
     "checksum": "0663c86a10c3864dfc60a1e039bd18d0",
     "grade": false,
     "grade_id": "cell-02175f68f7f3839c",
     "locked": true,
     "schema_version": 1,
     "solution": false
    }
   },
   "source": [
    "Write a function which prints a string of 'y' for each entry of a vector [2,4,1]:\n",
    "\n",
    "yy      \n",
    "yyyy  \n",
    "y\n"
   ]
  },
  {
   "cell_type": "code",
   "execution_count": 18,
   "metadata": {
    "deletable": false,
    "nbgrader": {
     "checksum": "7714cea06ab24327678b5c44c84ffc1f",
     "grade": false,
     "grade_id": "cell-631ae09a389a66d4",
     "locked": false,
     "schema_version": 1,
     "solution": true
    }
   },
   "outputs": [
    {
     "name": "stdout",
     "output_type": "stream",
     "text": [
      "yy\n",
      "yyyy\n",
      "y\n",
      "\n"
     ]
    }
   ],
   "source": [
    "def star_histogram(c):\n",
    "    # YOUR CODE HERE\n",
    "    y = []\n",
    "    for item in c:\n",
    "        x = \"\"\n",
    "        while item > 0:\n",
    "            x += \"y\"\n",
    "            item -= 1\n",
    "        y.append(x)\n",
    "    y = \"\\n\".join(y) + \"\\n\"\n",
    "    return(y)\n",
    "    \n",
    "c=[2,4,1]\n",
    "print(star_histogram(c))"
   ]
  },
  {
   "cell_type": "code",
   "execution_count": 19,
   "metadata": {
    "deletable": false,
    "editable": false,
    "nbgrader": {
     "checksum": "fcf3b06e6c32cab8193e9b2d27e3ee86",
     "grade": true,
     "grade_id": "cell-901ea19debe3ee4c",
     "locked": true,
     "points": 0,
     "schema_version": 1,
     "solution": false
    }
   },
   "outputs": [],
   "source": [
    "assert star_histogram(c)==\"yy\\nyyyy\\ny\\n\""
   ]
  },
  {
   "cell_type": "markdown",
   "metadata": {
    "deletable": false,
    "editable": false,
    "nbgrader": {
     "checksum": "97923dffeb4bbc31a4d71c066df820af",
     "grade": false,
     "grade_id": "cell-191cda8f80a291fe",
     "locked": true,
     "schema_version": 1,
     "solution": false
    }
   },
   "source": [
    "#### Exercise 6\n",
    "\n",
    "Compute how many times a character is present in a string. Use a dictionary to represent the string. "
   ]
  },
  {
   "cell_type": "code",
   "execution_count": 25,
   "metadata": {
    "deletable": false,
    "nbgrader": {
     "checksum": "51701bb416234f43c8be7c8ae9a61722",
     "grade": false,
     "grade_id": "cell-94b1ecc182583f9b",
     "locked": false,
     "schema_version": 1,
     "solution": true
    }
   },
   "outputs": [
    {
     "name": "stdout",
     "output_type": "stream",
     "text": [
      "How many times a character is present: {'a': 4, 'b': 4, 'c': 1}\n"
     ]
    }
   ],
   "source": [
    "def character_frequency(word):\n",
    "    # YOUR CODE HERE\n",
    "    thing = {}\n",
    "    for item in word:\n",
    "        thing[item] = word.count(item)\n",
    "    return(thing)\n",
    "        \n",
    "c=\"abababbca\"\n",
    "print(\"How many times a character is present: %s\" % character_frequency(c))"
   ]
  },
  {
   "cell_type": "code",
   "execution_count": 21,
   "metadata": {
    "deletable": false,
    "editable": false,
    "nbgrader": {
     "checksum": "6380f66750a13bce7bec2e008794c902",
     "grade": true,
     "grade_id": "cell-2a787760db753909",
     "locked": true,
     "points": 0,
     "schema_version": 1,
     "solution": false
    }
   },
   "outputs": [],
   "source": [
    "assert character_frequency(\"abra\")=={'a': 2, 'b': 1, 'r': 1}"
   ]
  },
  {
   "cell_type": "markdown",
   "metadata": {
    "deletable": false,
    "editable": false,
    "nbgrader": {
     "checksum": "02166350b3c07dcd0f2610eb8043dcbd",
     "grade": false,
     "grade_id": "cell-5ece5ceb3b7fd717",
     "locked": true,
     "schema_version": 1,
     "solution": false
    }
   },
   "source": [
    "### Exercise 7\n",
    "\n",
    "Make a list 'mult_7' of all the integer numbers from 0 to 99 which are multiples of 7. Print these values to the screen."
   ]
  },
  {
   "cell_type": "code",
   "execution_count": 22,
   "metadata": {
    "deletable": false,
    "nbgrader": {
     "checksum": "35c1bfe0232184b84df4a4e32d4034de",
     "grade": false,
     "grade_id": "cell-8091f8ddc1391ba5",
     "locked": false,
     "schema_version": 1,
     "solution": true
    }
   },
   "outputs": [
    {
     "name": "stdout",
     "output_type": "stream",
     "text": [
      "The list is [0, 7, 14, 21, 28, 35, 42, 49, 56, 63, 70, 77, 84, 91, 98]\n"
     ]
    }
   ],
   "source": [
    "def mult_7():\n",
    "    # YOUR CODE HERE\n",
    "    thing = []\n",
    "    for item in range(99):\n",
    "        if item % 7 == 0:\n",
    "            thing.append(item)\n",
    "    return(thing)\n",
    "print(\"The list is %s\" % mult_7() )"
   ]
  },
  {
   "cell_type": "code",
   "execution_count": 23,
   "metadata": {
    "deletable": false,
    "editable": false,
    "nbgrader": {
     "checksum": "dd9df1fc848567266287415d0299827e",
     "grade": true,
     "grade_id": "cell-825e1592f0e1efbb",
     "locked": true,
     "points": 0,
     "schema_version": 1,
     "solution": false
    }
   },
   "outputs": [],
   "source": [
    "assert mult_7()==[0, 7, 14, 21, 28, 35, 42, 49, 56, 63, 70, 77, 84, 91, 98]"
   ]
  },
  {
   "cell_type": "code",
   "execution_count": null,
   "metadata": {},
   "outputs": [],
   "source": []
  }
 ],
 "metadata": {
  "kernelspec": {
   "display_name": "Python 3",
   "language": "python",
   "name": "python3"
  },
  "language_info": {
   "codemirror_mode": {
    "name": "ipython",
    "version": 3
   },
   "file_extension": ".py",
   "mimetype": "text/x-python",
   "name": "python",
   "nbconvert_exporter": "python",
   "pygments_lexer": "ipython3",
   "version": "3.6.4"
  }
 },
 "nbformat": 4,
 "nbformat_minor": 2
}
