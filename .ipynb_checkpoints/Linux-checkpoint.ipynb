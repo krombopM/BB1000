{
 "cells": [
  {
   "cell_type": "markdown",
   "metadata": {},
   "source": [
    "Before you turn this problem in, make sure everything runs as expected. First, **restart the kernel** (in the menubar, select Kernel$\\rightarrow$Restart) and then **run all cells** (in the menubar, select Cell$\\rightarrow$Run All).\n",
    "\n",
    "Make sure you fill in any place that says `YOUR CODE HERE` or \"YOUR ANSWER HERE\", as well as your name and collaborators below:"
   ]
  },
  {
   "cell_type": "code",
   "execution_count": null,
   "metadata": {
    "collapsed": true
   },
   "outputs": [],
   "source": [
    "NAME = \"Emil Spåre\"\n",
    "COLLABORATORS = \"\""
   ]
  },
  {
   "cell_type": "markdown",
   "metadata": {},
   "source": [
    "---"
   ]
  },
  {
   "cell_type": "markdown",
   "metadata": {
    "deletable": false,
    "editable": false,
    "nbgrader": {
     "checksum": "0e5e959828bd6955a020757ce05c7623",
     "grade": false,
     "grade_id": "cell-529459ba9b7bc07b",
     "locked": true,
     "schema_version": 1,
     "solution": false
    }
   },
   "source": [
    "### Linux & bash\n",
    "\n",
    "In this exercise, we focus upon the most important linux and bash commands. However, a whole new universe is out there - the reader is advised to discover more about this virtual environment on his/her own initiative.  "
   ]
  },
  {
   "cell_type": "markdown",
   "metadata": {
    "deletable": false,
    "editable": false,
    "nbgrader": {
     "checksum": "33cb4433bb4de386fc9ccda4c38d4070",
     "grade": false,
     "grade_id": "cell-520763c6c17c241e",
     "locked": true,
     "schema_version": 1,
     "solution": false
    }
   },
   "source": [
    "In order to facilitate the exercises of today, let us first prepare some files, which will be used later on to train the concepts and commands discussed in the lecture. You can simply copy-paste the next block in one of yours and execute it. "
   ]
  },
  {
   "cell_type": "code",
   "execution_count": 1,
   "metadata": {
    "collapsed": true
   },
   "outputs": [],
   "source": [
    "!rm -rf asterix obelix romans"
   ]
  },
  {
   "cell_type": "code",
   "execution_count": 1,
   "metadata": {
    "deletable": false,
    "editable": false,
    "nbgrader": {
     "checksum": "3fc86c2fce61a955987c5132178b2e3d",
     "grade": false,
     "grade_id": "cell-8dc5700d7453f645",
     "locked": true,
     "schema_version": 1,
     "solution": false
    }
   },
   "outputs": [],
   "source": [
    "%%bash\n",
    "echo '2 wild boars' > breakfast_obelix\n",
    "echo '1 duck' >> breakfast_obelix\n",
    "echo '2 kg potatoes' >> breakfast_obelix\n",
    "echo 'print(\"I am the emperor of Rome\")' > caesar"
   ]
  },
  {
   "cell_type": "code",
   "execution_count": 2,
   "metadata": {},
   "outputs": [
    {
     "name": "stdout",
     "output_type": "stream",
     "text": [
      "2 wild boars\n",
      "1 duck\n",
      "2 kg potatoes\n",
      "print(\"I am the emperor of Rome\")\n"
     ]
    }
   ],
   "source": [
    "!cat breakfast_obelix\n",
    "!cat caesar\n"
   ]
  },
  {
   "cell_type": "markdown",
   "metadata": {
    "deletable": false,
    "editable": false,
    "nbgrader": {
     "checksum": "b7304aca32940cec5e4b784a7f4b2ec0",
     "grade": false,
     "grade_id": "cell-aa6025f35dbdba78",
     "locked": true,
     "schema_version": 1,
     "solution": false
    }
   },
   "source": [
    "Let us now start the exercise. \n",
    "\n",
    "In each block in Jupyter, the initial line %%bash has to be written: it tells the operating system that the lines to follow will be interpreted as bash commands. Since all blocks are technically independent from each other, it is important to write this command each time explicitly.\n",
    "\n",
    "Check where you are in the file system at this moment. List all files. "
   ]
  },
  {
   "cell_type": "code",
   "execution_count": 4,
   "metadata": {
    "deletable": false,
    "nbgrader": {
     "checksum": "6a23015de3905e3196ee496630104852",
     "grade": false,
     "grade_id": "cell-db71c50869567568",
     "locked": false,
     "schema_version": 1,
     "solution": true
    }
   },
   "outputs": [
    {
     "name": "stdout",
     "output_type": "stream",
     "text": [
      "/home/olav/courses/bb1000/jupyter-labs/release/Linux\n",
      ".\n",
      "├── breakfast_obelix\n",
      "├── caesar\n",
      "└── Linux.ipynb\n",
      "\n",
      "0 directories, 3 files\n"
     ]
    }
   ],
   "source": [
    "%%bash\n",
    "pwd\n",
    "tree\n",
    "# YOUR CODE HERE"
   ]
  },
  {
   "cell_type": "markdown",
   "metadata": {
    "deletable": false,
    "editable": false,
    "nbgrader": {
     "checksum": "150a95aa89020356db953e7c3edd098a",
     "grade": false,
     "grade_id": "cell-33cf36274c5c7cff",
     "locked": true,
     "schema_version": 1,
     "solution": false
    }
   },
   "source": [
    "Make an architecture based upon 3 folders ('asterix', 'obelix', 'romans'). Inside the folder 'asterix', create an empty file 'breakfast'. Inside the folder 'obelix', create a directory 'latraviata'. Move the file 'breakfast_obelix' to this directory 'obelix'."
   ]
  },
  {
   "cell_type": "code",
   "execution_count": 5,
   "metadata": {
    "deletable": false,
    "nbgrader": {
     "checksum": "942ca162c89b71baa8f34a055d8d542a",
     "grade": false,
     "grade_id": "cell-f15ded1957c3b1f4",
     "locked": false,
     "schema_version": 1,
     "solution": true
    }
   },
   "outputs": [],
   "source": [
    "%%bash\n",
    "# YOUR CODE HERE\n",
    "mkdir asterix\n",
    "mkdir obelix\n",
    "mkdir romans\n",
    "touch asterix/breakfast\n",
    "mkdir obelix/latraviata\n",
    "mv breakfast_obelix obelix"
   ]
  },
  {
   "cell_type": "code",
   "execution_count": 6,
   "metadata": {},
   "outputs": [
    {
     "name": "stdout",
     "output_type": "stream",
     "text": [
      "\u001b[01;34m.\u001b[00m\r\n",
      "├── \u001b[01;34masterix\u001b[00m\r\n",
      "│   └── breakfast\r\n",
      "├── caesar\r\n",
      "├── Linux.ipynb\r\n",
      "├── \u001b[01;34mobelix\u001b[00m\r\n",
      "│   ├── breakfast_obelix\r\n",
      "│   └── \u001b[01;34mlatraviata\u001b[00m\r\n",
      "└── \u001b[01;34mromans\u001b[00m\r\n",
      "\r\n",
      "4 directories, 4 files\r\n"
     ]
    }
   ],
   "source": [
    "!tree"
   ]
  },
  {
   "cell_type": "markdown",
   "metadata": {
    "deletable": false,
    "editable": false,
    "nbgrader": {
     "checksum": "70a39b8d76cdfd5bb371432c9d02cd87",
     "grade": false,
     "grade_id": "cell-7b19c8deee651b28",
     "locked": true,
     "schema_version": 1,
     "solution": false
    }
   },
   "source": [
    "Inside the folder 'obelix', move 'breakfast_obelix' to 'latraviata' and change its name into 'middag_with_family'. Change now the folder 'latraviata' from 'obelix' to 'asterix'."
   ]
  },
  {
   "cell_type": "code",
   "execution_count": 7,
   "metadata": {
    "deletable": false,
    "nbgrader": {
     "checksum": "1420f0ade723d929144ae309d407590a",
     "grade": false,
     "grade_id": "cell-0d9b30453d6c1694",
     "locked": false,
     "schema_version": 1,
     "solution": true
    }
   },
   "outputs": [],
   "source": [
    "%%bash\n",
    "# YOUR CODE HERE\n",
    "cd obelix\n",
    "mv breakfast_obelix latraviata/middag_with_family\n",
    "mv latraviata ../asterix\n"
   ]
  },
  {
   "cell_type": "code",
   "execution_count": 8,
   "metadata": {},
   "outputs": [
    {
     "name": "stdout",
     "output_type": "stream",
     "text": [
      "/home/olav/courses/bb1000/jupyter-labs/release/Linux\r\n"
     ]
    }
   ],
   "source": [
    "!pwd"
   ]
  },
  {
   "cell_type": "markdown",
   "metadata": {
    "deletable": false,
    "editable": false,
    "nbgrader": {
     "checksum": "e01d2d06bf4c151861dec7af3cbfc44a",
     "grade": false,
     "grade_id": "cell-8da1e1d1c7e20171",
     "locked": true,
     "schema_version": 1,
     "solution": false
    }
   },
   "source": [
    "Check where you are now in the architecture of the files. Remove the directory 'romans' and remove the file breakfast in 'asterix'."
   ]
  },
  {
   "cell_type": "code",
   "execution_count": 10,
   "metadata": {
    "deletable": false,
    "nbgrader": {
     "checksum": "5d922396afc2c4e6a372ad9190ebeb15",
     "grade": false,
     "grade_id": "cell-1672cfbb11914e59",
     "locked": false,
     "schema_version": 1,
     "solution": true
    }
   },
   "outputs": [
    {
     "name": "stdout",
     "output_type": "stream",
     "text": [
      ".\n",
      "├── asterix\n",
      "│   ├── breakfast\n",
      "│   └── latraviata\n",
      "│       └── middag_with_family\n",
      "├── caesar\n",
      "├── Linux.ipynb\n",
      "├── obelix\n",
      "└── romans\n",
      "\n",
      "4 directories, 4 files\n",
      ".\n",
      "├── asterix\n",
      "│   └── latraviata\n",
      "│       └── middag_with_family\n",
      "├── caesar\n",
      "├── Linux.ipynb\n",
      "└── obelix\n",
      "\n",
      "3 directories, 3 files\n"
     ]
    }
   ],
   "source": [
    "%%bash\n",
    "tree\n",
    "rmdir romans\n",
    "rm asterix/breakfast\n",
    "tree\n",
    "# YOUR CODE HERE"
   ]
  },
  {
   "cell_type": "markdown",
   "metadata": {
    "deletable": false,
    "editable": false,
    "nbgrader": {
     "checksum": "72f48a942c349e07a1c1c697f7fd6857",
     "grade": false,
     "grade_id": "cell-532753aab1ec112b",
     "locked": true,
     "schema_version": 1,
     "solution": false
    }
   },
   "source": [
    "Copy the file 'asterix/latraviata/middag_with_family' to 'obelix' and call it again 'breakfast'. Use 'grep' to find out how many wild boars were included in 'breakfast'. "
   ]
  },
  {
   "cell_type": "code",
   "execution_count": 11,
   "metadata": {
    "deletable": false,
    "nbgrader": {
     "checksum": "3bac0fa2b4007e6dbce93edb1a2d45a1",
     "grade": false,
     "grade_id": "cell-382595e252ed681d",
     "locked": false,
     "schema_version": 1,
     "solution": true
    }
   },
   "outputs": [
    {
     "name": "stdout",
     "output_type": "stream",
     "text": [
      "2 wild boars\n"
     ]
    }
   ],
   "source": [
    "%%bash\n",
    "cp asterix/latraviata/middag_with_family obelix/breakfast\n",
    "grep boars obelix/breakfast\n",
    "# YOUR CODE HERE"
   ]
  },
  {
   "cell_type": "markdown",
   "metadata": {
    "deletable": false,
    "editable": false,
    "nbgrader": {
     "checksum": "7196ed89d44444539bef584b1696b332",
     "grade": false,
     "grade_id": "cell-1fb9cc5ac20a27da",
     "locked": true,
     "schema_version": 1,
     "solution": false
    }
   },
   "source": [
    "Inside the 'obelix' map, create a map 'idefix' and inside 'idefix' create the empty files 'pup1', 'pup2' and 'pup3'. Go to the map of obelix and visualize the time in which the content of this folder (being the folder 'idefix' and the file 'breakfast') has been made. Navigate finally one folder higher and search with a keyword where 'pup1' is located."
   ]
  },
  {
   "cell_type": "code",
   "execution_count": 14,
   "metadata": {
    "deletable": false,
    "nbgrader": {
     "checksum": "016ff1d44590338aca82de81f3627b45",
     "grade": false,
     "grade_id": "cell-e2929ef5e2e1aa0e",
     "locked": false,
     "schema_version": 1,
     "solution": true
    }
   },
   "outputs": [
    {
     "name": "stdout",
     "output_type": "stream",
     "text": [
      ".\n",
      "├── asterix\n",
      "│   └── latraviata\n",
      "│       └── middag_with_family\n",
      "├── caesar\n",
      "├── Linux.ipynb\n",
      "└── obelix\n",
      "    ├── breakfast\n",
      "    └── idefix\n",
      "        └── pup{123}\n",
      "\n",
      "4 directories, 5 files\n",
      ".\n",
      "├── asterix\n",
      "│   └── latraviata\n",
      "│       └── middag_with_family\n",
      "├── caesar\n",
      "├── Linux.ipynb\n",
      "└── obelix\n",
      "    ├── breakfast\n",
      "    └── idefix\n",
      "        ├── pup1\n",
      "        ├── pup{123}\n",
      "        ├── pup2\n",
      "        └── pup3\n",
      "\n",
      "4 directories, 8 files\n"
     ]
    },
    {
     "name": "stderr",
     "output_type": "stream",
     "text": [
      "mkdir: cannot create directory ‘obelix/idefix’: File exists\n"
     ]
    }
   ],
   "source": [
    "%%bash\n",
    "tree\n",
    "mkdir obelix/idefix\n",
    "touch obelix/idefix/pup1\n",
    "touch obelix/idefix/pup2\n",
    "touch obelix/idefix/pup3\n",
    "tree\n",
    "# YOUR CODE HERE"
   ]
  },
  {
   "cell_type": "markdown",
   "metadata": {
    "deletable": false,
    "editable": false,
    "nbgrader": {
     "checksum": "31f95cd023cc37ccb3c23a589bc8e8dd",
     "grade": false,
     "grade_id": "cell-2e13e88db9497017",
     "locked": true,
     "schema_version": 1,
     "solution": false
    }
   },
   "source": [
    "The file 'caesar' is in fact a text file, which contains python code. Visualize the content of the file. Run the program using python3."
   ]
  },
  {
   "cell_type": "code",
   "execution_count": 16,
   "metadata": {
    "deletable": false,
    "nbgrader": {
     "checksum": "9c5bc83e008b0ed83c02289db5e3e23d",
     "grade": false,
     "grade_id": "cell-40da915435f48a13",
     "locked": false,
     "schema_version": 1,
     "solution": true
    }
   },
   "outputs": [
    {
     "name": "stdout",
     "output_type": "stream",
     "text": [
      "print(\"I am the emperor of Rome\")\n",
      "I am the emperor of Rome\n"
     ]
    }
   ],
   "source": [
    "%%bash\n",
    "# YOUR CODE HERE\n",
    "cat caesar\n",
    "python3 caesar"
   ]
  },
  {
   "cell_type": "code",
   "execution_count": null,
   "metadata": {
    "collapsed": true
   },
   "outputs": [],
   "source": []
  }
 ],
 "metadata": {
  "kernelspec": {
   "display_name": "Python 3",
   "language": "python",
   "name": "python3"
  },
  "language_info": {
   "codemirror_mode": {
    "name": "ipython",
    "version": 3
   },
   "file_extension": ".py",
   "mimetype": "text/x-python",
   "name": "python",
   "nbconvert_exporter": "python",
   "pygments_lexer": "ipython3",
   "version": "3.6.4"
  }
 },
 "nbformat": 4,
 "nbformat_minor": 2
}
