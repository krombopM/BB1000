{
 "cells": [
  {
   "cell_type": "markdown",
   "metadata": {},
   "source": [
    "Before you turn this problem in, make sure everything runs as expected. First, **restart the kernel** (in the menubar, select Kernel$\\rightarrow$Restart) and then **run all cells** (in the menubar, select Cell$\\rightarrow$Run All).\n",
    "\n",
    "Make sure you fill in any place that says `YOUR CODE HERE` or \"YOUR ANSWER HERE\", as well as your name and collaborators below:"
   ]
  },
  {
   "cell_type": "code",
   "execution_count": 1,
   "metadata": {},
   "outputs": [],
   "source": [
    "NAME = \"Emil Spåre\"\n",
    "COLLABORATORS = \"\""
   ]
  },
  {
   "cell_type": "markdown",
   "metadata": {},
   "source": [
    "---"
   ]
  },
  {
   "cell_type": "markdown",
   "metadata": {},
   "source": [
    "## Filehandling\n",
    "\n",
    "Welcome to the excercises of Filehandling."
   ]
  },
  {
   "cell_type": "markdown",
   "metadata": {
    "deletable": false,
    "editable": false,
    "nbgrader": {
     "checksum": "e2835e21bd464ff718cdd638e0d0ba1f",
     "grade": false,
     "grade_id": "cell-f44a5a1eae58143a",
     "locked": true,
     "schema_version": 1,
     "solution": false
    }
   },
   "source": [
    "## Exercise 1\n",
    "\n",
    "(a) Copy the content of a file ('1_ext_file' - content boils down to one number per line) to a new file ('my_new_file'). Write a program which asks the user for a decimal number (e.g. 5.23), makes the sum with '42', and add the original number as well as the result of the sum to 'my_new_file'."
   ]
  },
  {
   "cell_type": "code",
   "execution_count": 20,
   "metadata": {
    "deletable": false,
    "nbgrader": {
     "checksum": "c57098a39c320e73a5463ab14ce52837",
     "grade": false,
     "grade_id": "cell-ae39b06da150bd12",
     "locked": false,
     "schema_version": 1,
     "solution": true
    }
   },
   "outputs": [
    {
     "name": "stdout",
     "output_type": "stream",
     "text": [
      "['4\\n', '10\\n', '3\\n', '78\\n', '6589\\n', '10\\n', '52\\n']\n"
     ]
    }
   ],
   "source": [
    "# YOUR CODE HERE\n",
    "numbers = []\n",
    "with open('1_ext_file', 'r') as f:\n",
    "    for line in f:\n",
    "        numbers.append(line)\n",
    "\n",
    "number1 = 10\n",
    "number2 = 42 + number1\n",
    "number1 = str(number1)\n",
    "number1 += \"\\n\"\n",
    "number2 = str(number2)\n",
    "number2 += \"\\n\"\n",
    "if len(numbers) < 7:\n",
    "    del numbers[-2:]\n",
    "    numbers.append(number1)\n",
    "    numbers.append(number2)\n",
    "print(numbers)\n",
    "\n",
    "with open('my_new_file', 'w') as f:\n",
    "    for item in numbers:\n",
    "        f.write('%s' % item)\n",
    "\n",
    "with open('1_ext_file', 'w') as f:\n",
    "    for item in numbers:\n",
    "        f.write('%s' % item)"
   ]
  },
  {
   "cell_type": "code",
   "execution_count": 21,
   "metadata": {
    "deletable": false,
    "editable": false,
    "nbgrader": {
     "checksum": "6182e5be39490ee15db9f553762c8c3e",
     "grade": true,
     "grade_id": "cell-4602de186f9af5f6",
     "locked": true,
     "points": 0,
     "schema_version": 1,
     "solution": false
    }
   },
   "outputs": [],
   "source": [
    "out=open(\"my_new_file\", 'r')\n",
    "lines=out.readlines()\n",
    "out.close()\n",
    "assert len(lines)==7\n",
    "number = float(lines[6])-float(lines[5])\n",
    "assert number == 42"
   ]
  },
  {
   "cell_type": "markdown",
   "metadata": {
    "deletable": false,
    "editable": false,
    "nbgrader": {
     "checksum": "3655ab7a2abb3ebbbdd807873c7b068f",
     "grade": false,
     "grade_id": "cell-ddb6266f7f37c71c",
     "locked": true,
     "schema_version": 1,
     "solution": false
    }
   },
   "source": [
    "(b) Calculate the average of all numbers in this file and write the output to a file with extension \".e2\". As we didn't study it yet, do not use numpy.  "
   ]
  },
  {
   "cell_type": "code",
   "execution_count": 4,
   "metadata": {
    "deletable": false,
    "nbgrader": {
     "checksum": "5a92637d482ab82a36ab03338ef37a31",
     "grade": false,
     "grade_id": "cell-6633a9afdc8fbbd3",
     "locked": false,
     "schema_version": 1,
     "solution": true
    }
   },
   "outputs": [],
   "source": [
    "# YOUR CODE HERE\n",
    "numbers = []\n",
    "with open(\"my_new_file\", \"r\") as f:\n",
    "    for line in f:\n",
    "        numbers.append(line)\n",
    "        \n",
    "summa = 0\n",
    "for item in numbers:\n",
    "    summa += int(item)\n",
    "summa /= len(numbers)\n",
    "with open(\"1_ext_file.e2\", \"w\") as f:\n",
    "    f.write(str(summa))"
   ]
  },
  {
   "cell_type": "markdown",
   "metadata": {
    "deletable": false,
    "editable": false,
    "nbgrader": {
     "checksum": "9812eff8c6c340e986c1f6ea448b229c",
     "grade": false,
     "grade_id": "cell-c4d1471b15f111de",
     "locked": true,
     "schema_version": 1,
     "solution": false
    }
   },
   "source": [
    "(For the testing from the other hand, numpy is used. When you first run this test, you might need to install numpy. You do that by removing the '#' in the second lind. It will take a couple of minutes. Dependent on the installation, a not-so-important message about newer versions of conda might appear. Afterwards, you can again put the '#'.)"
   ]
  },
  {
   "cell_type": "code",
   "execution_count": 5,
   "metadata": {
    "deletable": false,
    "editable": false,
    "nbgrader": {
     "checksum": "bd5dfe4d259367f560347de7ea18ae72",
     "grade": true,
     "grade_id": "cell-57d364dc4a9aa299",
     "locked": true,
     "points": 0,
     "schema_version": 1,
     "solution": false
    }
   },
   "outputs": [],
   "source": [
    "import sys\n",
    "#!conda install --yes --prefix {sys.prefix} numpy\n",
    "import numpy as np\n",
    "file_in=open(\"1_ext_file\", 'r')\n",
    "lines=file_in.readlines()\n",
    "file_in.close()\n",
    "lines_n=[]\n",
    "for i in range(len(lines)):\n",
    "    lines_n.append(float(lines[i]))\n",
    "svalue=np.mean(lines_n)\n",
    "file_in2=open(\"1_ext_file.e2\", 'r')\n",
    "line=file_in2.readline()\n",
    "file_in2.close()\n",
    "assert round(float(line[:]),3) == round(svalue,3) "
   ]
  },
  {
   "cell_type": "markdown",
   "metadata": {
    "deletable": false,
    "editable": false,
    "nbgrader": {
     "checksum": "f56873a029992dded1c0e0a34ddbf971",
     "grade": false,
     "grade_id": "cell-3f93d49267f64f2c",
     "locked": true,
     "schema_version": 1,
     "solution": false
    }
   },
   "source": [
    "## Exercise 2\n",
    "\n",
    "A file is called ordered if there is an order defined on the data given in the file and if these data are ordered in an ascending order. Imagine that on the two ordered files '2_f' and '2_g' each number is given on one line (a number only appears once in this exercise; '2_f' and '2_g' may contain different amount of numbers). Write a program which merges '2_f' and '2_g' to one newly ordered file '2_h'. "
   ]
  },
  {
   "cell_type": "code",
   "execution_count": 6,
   "metadata": {
    "deletable": false,
    "nbgrader": {
     "checksum": "af1eb28ce1805b37a6bc0629a592f05f",
     "grade": false,
     "grade_id": "cell-dd5792c551a40b46",
     "locked": false,
     "schema_version": 1,
     "solution": true
    }
   },
   "outputs": [],
   "source": [
    "# YOUR CODE HERE\n",
    "numbers = []\n",
    "with open(\"2_f\", \"r\") as f:\n",
    "    for line in f:\n",
    "        numbers.append(line)\n",
    "        \n",
    "with open(\"2_g\", \"r\") as f:\n",
    "    for line in f:\n",
    "        numbers.append(line)\n",
    "\n",
    "stripnumbers = []\n",
    "for item in numbers:\n",
    "    item = item.rstrip()\n",
    "    stripnumbers.append(int(item))\n",
    "\n",
    "stripnumbers = sorted(stripnumbers)\n",
    "\n",
    "with open(\"2_h\", \"w\") as f:\n",
    "    for item in stripnumbers:\n",
    "        f.write(\"%s\\n\" % item)"
   ]
  },
  {
   "cell_type": "code",
   "execution_count": 7,
   "metadata": {
    "deletable": false,
    "editable": false,
    "nbgrader": {
     "checksum": "761d919f994b85b40fd5096171dda8d4",
     "grade": true,
     "grade_id": "cell-7b87ce187bc2a922",
     "locked": true,
     "points": 0,
     "schema_version": 1,
     "solution": false
    }
   },
   "outputs": [],
   "source": [
    "hread = open(\"2_h\", 'r')\n",
    "\n",
    "lines=hread.readlines()\n",
    "\n",
    "for i in range(len(lines)-1):\n",
    "    assert int(lines[i]) < int(lines[i+1])\n",
    "    \n",
    "hread.close()"
   ]
  },
  {
   "cell_type": "markdown",
   "metadata": {
    "deletable": false,
    "editable": false,
    "nbgrader": {
     "checksum": "e05d88350a1197ceabd9c27d8863bc0a",
     "grade": false,
     "grade_id": "cell-8ed8fab8a5730197",
     "locked": true,
     "schema_version": 1,
     "solution": false
    }
   },
   "source": [
    "## Exercise 3\n",
    "\n",
    "Write a program which writes the text from input-file '3_given_file_story' in the file '3_output', taking into account the line-partition and a screen width of 70 characters."
   ]
  },
  {
   "cell_type": "code",
   "execution_count": 8,
   "metadata": {
    "deletable": false,
    "nbgrader": {
     "checksum": "53a56fa469e350c0e9c5859e141299a6",
     "grade": false,
     "grade_id": "cell-365c8f325e244fef",
     "locked": false,
     "schema_version": 1,
     "solution": true
    }
   },
   "outputs": [],
   "source": [
    "# YOUR CODE HERE\n",
    "import textwrap\n",
    "string = []\n",
    "with open(\"3_given_file_story\", \"r\") as f:\n",
    "    for line in f:\n",
    "        string.append(line.rstrip())\n",
    "\n",
    "del string[1]\n",
    "\n",
    "\n",
    "first = textwrap.wrap(string[0], 69, break_long_words=False)\n",
    "second = textwrap.wrap(string[1], 69, break_long_words=False)\n",
    "\n",
    "string = first + second\n",
    "\n",
    "with open(\"3_output\", \"w\") as f:\n",
    "    for item in string:\n",
    "        f.write(\"%s\\n\" % item)"
   ]
  },
  {
   "cell_type": "code",
   "execution_count": 9,
   "metadata": {
    "deletable": false,
    "editable": false,
    "nbgrader": {
     "checksum": "a75c19fa4b73327468f2b08027439676",
     "grade": true,
     "grade_id": "cell-d8534b416f4b82f5",
     "locked": true,
     "points": 0,
     "schema_version": 1,
     "solution": false
    }
   },
   "outputs": [],
   "source": [
    "output_file = open(\"3_output\", 'r')\n",
    "lines=output_file.readlines()\n",
    "assert len(lines)==6\n",
    "for i in range(len(lines)):\n",
    "    assert len(lines[i]) <= 70\n",
    "assert lines[4].split()[0]=='Now'\n",
    "output_file.close()"
   ]
  },
  {
   "cell_type": "markdown",
   "metadata": {
    "deletable": false,
    "editable": false,
    "nbgrader": {
     "checksum": "0eee1711b50412d4635eccfe860b70ad",
     "grade": false,
     "grade_id": "cell-843d1b8d6c0360ec",
     "locked": true,
     "schema_version": 1,
     "solution": false
    }
   },
   "source": [
    "## Exercise 4\n",
    "\n",
    "Write a script that will return as many numbers in the Fibonacci sequence (on different lines in a file 'exercise_4.output') as the user requires.  "
   ]
  },
  {
   "cell_type": "code",
   "execution_count": 10,
   "metadata": {
    "deletable": false,
    "nbgrader": {
     "checksum": "a42b2e45d569595651923d40a9e2c257",
     "grade": false,
     "grade_id": "cell-66ef52ba65ef5188",
     "locked": false,
     "schema_version": 1,
     "solution": true
    }
   },
   "outputs": [],
   "source": [
    "# YOUR CODE HERE\n",
    "s = [0, 1]\n",
    "n = 99\n",
    "\n",
    "for item in range(n - 2):\n",
    "    s.append(s[-2] + s[-1])\n",
    "\n",
    "with open(\"exercise_4.output\", \"w\") as f:\n",
    "    for item in s:\n",
    "        f.write(\"%s\\n\" % item)"
   ]
  },
  {
   "cell_type": "code",
   "execution_count": 11,
   "metadata": {
    "deletable": false,
    "editable": false,
    "nbgrader": {
     "checksum": "68da70c49b401e9b387aa21dbefbbe84",
     "grade": true,
     "grade_id": "cell-6c7a15828e87d9bd",
     "locked": true,
     "points": 0,
     "schema_version": 1,
     "solution": false
    }
   },
   "outputs": [],
   "source": [
    "#If the Fibonacci sequence is correct, then \n",
    "#the sum of the n numbers is equal to the (n+2)th number minus 1\n",
    "output_file = open(\"exercise_4.output\", 'r')\n",
    "lines = output_file.readlines()\n",
    "listn = []\n",
    "for i in range(len(lines)):\n",
    "    listn.append(int(lines[i]))\n",
    "tot_sum = sum(listn)\n",
    "npo = listn[len(listn)-1]+listn[len(listn)-2]\n",
    "npp = npo+listn[len(listn)-1]\n",
    "final_test = npp-1\n",
    "assert tot_sum == final_test                 \n",
    "output_file.close()"
   ]
  },
  {
   "cell_type": "markdown",
   "metadata": {
    "deletable": false,
    "editable": false,
    "nbgrader": {
     "checksum": "9dda502c00b756655cca628cbf6b4519",
     "grade": false,
     "grade_id": "cell-862c52d19472bde9",
     "locked": true,
     "schema_version": 1,
     "solution": false
    }
   },
   "source": [
    "## Exercise 5\n",
    "\n",
    "Write a program which writes out the 'Sum of electronic and thermal Enthalpies' (in Hartree) in a column in the outputfile 'Exercise_5_output'. Round the values to two decimals. Inputfile: Laurdan_0_va.log. Calculate the average value and write it as a last value in the outputfile. "
   ]
  },
  {
   "cell_type": "code",
   "execution_count": 12,
   "metadata": {
    "deletable": false,
    "nbgrader": {
     "checksum": "b3bade5a20a7285b238633431b5677cc",
     "grade": false,
     "grade_id": "cell-14265ad1ce8cd71a",
     "locked": false,
     "schema_version": 1,
     "solution": true
    }
   },
   "outputs": [],
   "source": [
    "# YOUR CODE HERE\n",
    "import subprocess\n",
    "subprocess.run(\"rm Exercise_5_output\", shell=True)\n",
    "subprocess.run(\"cat Laurdan_0_va.log | grep 'Sum of electronic and thermal Enthalpies=' * > Exercise_5_output\", shell=True, stdout=subprocess.PIPE)\n",
    "\n",
    "l = []\n",
    "\n",
    "with open(\"Exercise_5_output\", \"r\") as f:\n",
    "    for line in f:\n",
    "        l.append(line)\n",
    "\n",
    "del l[0:-25]\n",
    "newl = []\n",
    "\n",
    "for item in l:\n",
    "    item = item.rstrip()\n",
    "    item = list(item)\n",
    "    item = \"\".join(item[-12:])\n",
    "    item = float(item)\n",
    "    item = float(\"{0:.2f}\".format(item))\n",
    "    newl.append(item)\n",
    "\n",
    "avgent = 0\n",
    "for item in newl:\n",
    "    avgent += float(item)\n",
    "\n",
    "avgent /= len(newl)\n",
    "avgent = float(\"{0:.2f}\".format(avgent))\n",
    "newl.append(avgent)\n",
    "with open(\"Exercise_5_output\", \"w\") as f:\n",
    "    for item in newl:\n",
    "        f.write(\"%s\\n\" % item)"
   ]
  },
  {
   "cell_type": "code",
   "execution_count": 13,
   "metadata": {
    "deletable": false,
    "editable": false,
    "nbgrader": {
     "checksum": "03543bb7f32a21277e7fceebb3bd3ad9",
     "grade": true,
     "grade_id": "cell-e7f80356fc8354ec",
     "locked": true,
     "points": 0,
     "schema_version": 1,
     "solution": false
    }
   },
   "outputs": [],
   "source": [
    "import numpy as np\n",
    "Wf=open(\"Exercise_5_output\",'r')\n",
    "lines = Wf.readlines()\n",
    "tot_num=len(lines)\n",
    "assert len(lines) == 26\n",
    "for i in range(len(lines)):\n",
    "    number_out = lines[i][lines[i].find(\".\")+1:]\n",
    "    assert int(number_out) < 100\n",
    "newlist=[]\n",
    "for i in range(len(lines)-1):\n",
    "    newlist.append(round(float(lines[i]),2))\n",
    "ave=np.mean(newlist)\n",
    "assert round(ave,2) == round(float(lines[len(lines)-1]),2)\n",
    "Wf.close()"
   ]
  },
  {
   "cell_type": "code",
   "execution_count": null,
   "metadata": {},
   "outputs": [],
   "source": []
  },
  {
   "cell_type": "code",
   "execution_count": null,
   "metadata": {},
   "outputs": [],
   "source": []
  }
 ],
 "metadata": {
  "kernelspec": {
   "display_name": "Python 3",
   "language": "python",
   "name": "python3"
  },
  "language_info": {
   "codemirror_mode": {
    "name": "ipython",
    "version": 3
   },
   "file_extension": ".py",
   "mimetype": "text/x-python",
   "name": "python",
   "nbconvert_exporter": "python",
   "pygments_lexer": "ipython3",
   "version": "3.6.4"
  }
 },
 "nbformat": 4,
 "nbformat_minor": 2
}
