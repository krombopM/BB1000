{
 "cells": [
  {
   "cell_type": "markdown",
   "metadata": {},
   "source": [
    "Before you turn this problem in, make sure everything runs as expected. First, **restart the kernel** (in the menubar, select Kernel$\\rightarrow$Restart) and then **run all cells** (in the menubar, select Cell$\\rightarrow$Run All).\n",
    "\n",
    "Make sure you fill in any place that says `YOUR CODE HERE` or \"YOUR ANSWER HERE\", as well as your name and collaborators below:"
   ]
  },
  {
   "cell_type": "code",
   "execution_count": null,
   "metadata": {},
   "outputs": [],
   "source": [
    "NAME = \"Isac Ingfeldt\"\n",
    "COLLABORATORS = \"None\""
   ]
  },
  {
   "cell_type": "markdown",
   "metadata": {},
   "source": [
    "---"
   ]
  },
  {
   "cell_type": "markdown",
   "metadata": {},
   "source": [
    "# Using classes in Python\n",
    "\n",
    "### A. Create class for 3D vector \n",
    "\n",
    "Create a class for storing 3D vector (X, Y, Z coordinates), which provides a selected set of functions for manipulating with vector coordinates.  \n",
    "\n",
    "* Implement class Vector3D which has the following properties:\n",
    "* Attributes\n",
    "    - coordX stores X coordinate (object attribute)\n",
    "    - coordY stores Y coordinate (object attribute)\n",
    "    - coordZ stores Z coordinate (object attribute)\n",
    "* Ordinary class methods \n",
    "    - length() : computes length of vector* \n",
    "    - norm()   : renormalizes vector to unit length vector*\n",
    "      * for square root use math.sqrt function from math library\n",
    "* Overloaded operations  \n",
    "    - addition operator(+)     : implement __add__ method \n",
    "    - substraction operator(-) : implement __sub__ method \n",
    "\n",
    "    "
   ]
  },
  {
   "cell_type": "code",
   "execution_count": null,
   "metadata": {
    "deletable": false,
    "nbgrader": {
     "checksum": "f5c873fe07d4fed1bacfc505587cb60e",
     "grade": false,
     "grade_id": "cell-106104681ce80401",
     "locked": false,
     "schema_version": 1,
     "solution": true
    }
   },
   "outputs": [],
   "source": [
    "import math\n",
    "\n",
    "class Vector3D:\n",
    "    \"\"\"Class for manipulation of 3D-vectors\"\"\"\n",
    "    # YOUR CODE HERE\n",
    "\n",
    "    \n",
    "    "
   ]
  },
  {
   "cell_type": "code",
   "execution_count": null,
   "metadata": {
    "deletable": false,
    "editable": false,
    "nbgrader": {
     "checksum": "04fd9bb969cfaaf52e0a6999268d04eb",
     "grade": true,
     "grade_id": "cell-e8becee65f92a575",
     "locked": true,
     "points": 0,
     "schema_version": 1,
     "solution": false
    }
   },
   "outputs": [],
   "source": [
    "# Verify Vector3D constructor\n",
    "vector = Vector3D(1.0, 2.0, 4.0)\n",
    "assert vector.coordX == 1.0\n",
    "assert vector.coordY == 2.0\n",
    "assert vector.coordZ == 4.0"
   ]
  },
  {
   "cell_type": "code",
   "execution_count": null,
   "metadata": {
    "deletable": false,
    "editable": false,
    "nbgrader": {
     "checksum": "6a352a5545f31ebcb02f72395a61747f",
     "grade": true,
     "grade_id": "cell-3328f70c25343894",
     "locked": true,
     "points": 0,
     "schema_version": 1,
     "solution": false
    }
   },
   "outputs": [],
   "source": [
    "# Verify length method in Vector3D class \n",
    "vector = Vector3D(1.0, 2.0, 4.0)\n",
    "\n",
    "assert vector.length() == math.sqrt(21.0)"
   ]
  },
  {
   "cell_type": "code",
   "execution_count": null,
   "metadata": {
    "deletable": false,
    "editable": false,
    "nbgrader": {
     "checksum": "21dd01bd13d4d0ecb1015dbac1b5d077",
     "grade": true,
     "grade_id": "cell-96e5a932f3347dcf",
     "locked": true,
     "points": 0,
     "schema_version": 1,
     "solution": false
    }
   },
   "outputs": [],
   "source": [
    "# Verify norm method in Vector3D class \n",
    "vector = Vector3D(1.0, 2.0, 4.0)\n",
    "\n",
    "vector.norm()\n",
    "\n",
    "assert vector.length() == 1.0"
   ]
  },
  {
   "cell_type": "code",
   "execution_count": null,
   "metadata": {
    "deletable": false,
    "editable": false,
    "nbgrader": {
     "checksum": "d7f0781cd3b64afdfcd7a0d2003c1fe5",
     "grade": true,
     "grade_id": "cell-1f019ebe8894fb2b",
     "locked": true,
     "points": 0,
     "schema_version": 1,
     "solution": false
    }
   },
   "outputs": [],
   "source": [
    "#Verify addition operator for two vectors \n",
    "avector = Vector3D(1.0, 2.0, 4.0)\n",
    "bvector = Vector3D(2.0, 3.3, 0.9)\n",
    "\n",
    "cvector = avector + bvector\n",
    "\n",
    "assert cvector.coordX == 3.0\n",
    "assert cvector.coordY == 5.3\n",
    "assert cvector.coordZ == 4.9"
   ]
  },
  {
   "cell_type": "code",
   "execution_count": null,
   "metadata": {
    "deletable": false,
    "editable": false,
    "nbgrader": {
     "checksum": "0c570faa62daf1d6a9da483567fb4991",
     "grade": true,
     "grade_id": "cell-965fcb9cfdf9230b",
     "locked": true,
     "points": 0,
     "schema_version": 1,
     "solution": false
    }
   },
   "outputs": [],
   "source": [
    "#Verify substraction operator for two vectors \n",
    "avector = Vector3D(1.0, 2.0, 4.0)\n",
    "bvector = Vector3D(2.0, 0.2, 0.9)\n",
    "\n",
    "cvector = avector - bvector\n",
    "\n",
    "assert cvector.coordX == -1.0\n",
    "assert cvector.coordY ==  1.8\n",
    "assert cvector.coordZ ==  3.1"
   ]
  },
  {
   "cell_type": "markdown",
   "metadata": {},
   "source": [
    "### B. Create class for currency data storage \n",
    "\n",
    "Create a class for storing money ammount in SEK or Euros, which provides a selected set of functions for manipulating ammount and type of currency. \n",
    "\n",
    "* Implement class Money which has the following properties:\n",
    "* Attributes\n",
    "  - conversion_rate stores conversion rate from EURO to SEK (class attribute, default value 10.0)\n",
    "  - currency stores currency type ('SEK' or 'EURO') (object attribute)\n",
    "  - amount stores ammount of money (object attribute)\n",
    "* Ordinary class methods\n",
    "  - set_conversion_rate(new_conversion_rate) : for setting conversion rate \n",
    "* Overloaded operations\n",
    "  - addition operator(+)     : implement addition of money ammounts* \n",
    "  - substraction operator(-) : implement substraction of money ammounts* \n",
    "  * currency type of result must be currency type of first operand in arithmetical expresion "
   ]
  },
  {
   "cell_type": "code",
   "execution_count": null,
   "metadata": {
    "deletable": false,
    "nbgrader": {
     "checksum": "007e88820392748157366e949f5917e3",
     "grade": false,
     "grade_id": "cell-dbe1d3027a05e5a4",
     "locked": false,
     "schema_version": 1,
     "solution": true
    }
   },
   "outputs": [],
   "source": [
    "class Money:\n",
    "    \"\"\"A class for manipulation of different currencies\"\"\"\n",
    "    # YOUR CODE HERE"
   ]
  },
  {
   "cell_type": "code",
   "execution_count": null,
   "metadata": {
    "deletable": false,
    "editable": false,
    "nbgrader": {
     "checksum": "ed763f39429b9ef678b4627588670a90",
     "grade": true,
     "grade_id": "cell-73e7fae89242df32",
     "locked": true,
     "points": 0,
     "schema_version": 1,
     "solution": false
    }
   },
   "outputs": [],
   "source": [
    "#Verify class attribute\n",
    "assert Money.conversion_rate == 10.0"
   ]
  },
  {
   "cell_type": "code",
   "execution_count": null,
   "metadata": {
    "deletable": false,
    "editable": false,
    "nbgrader": {
     "checksum": "a0a6c2873857998090cc437d0e37b050",
     "grade": true,
     "grade_id": "cell-4181fe5f998c9a96",
     "locked": true,
     "points": 0,
     "schema_version": 1,
     "solution": false
    }
   },
   "outputs": [],
   "source": [
    "#Verify instance attributes\n",
    "ma = Money(100, 'SEK')\n",
    "mb = Money(50, 'EURO')\n",
    "assert ma.amount == 100\n",
    "assert ma.currency == 'SEK'\n",
    "assert mb.amount == 50\n",
    "assert mb.currency == 'EURO'"
   ]
  },
  {
   "cell_type": "code",
   "execution_count": null,
   "metadata": {
    "deletable": false,
    "editable": false,
    "nbgrader": {
     "checksum": "02d693c9331f96a505febe510d5cfb49",
     "grade": true,
     "grade_id": "cell-fa09de3f68f4fad3",
     "locked": true,
     "points": 0,
     "schema_version": 1,
     "solution": false
    }
   },
   "outputs": [],
   "source": [
    "#Verify addition\n",
    "ma = Money(100, 'SEK')\n",
    "mb = Money(50, 'EURO')\n",
    "mc = ma + mb\n",
    "assert mc.amount == 600\n",
    "assert mc.currency == 'SEK'"
   ]
  },
  {
   "cell_type": "code",
   "execution_count": null,
   "metadata": {
    "deletable": false,
    "editable": false,
    "nbgrader": {
     "checksum": "786f58ba41747da9740edaa9af1c58e6",
     "grade": true,
     "grade_id": "cell-77d09f62ca89cb1d",
     "locked": true,
     "points": 0,
     "schema_version": 1,
     "solution": false
    }
   },
   "outputs": [],
   "source": [
    "#Verify subtraction\n",
    "ma = Money(100, 'SEK')\n",
    "mb = Money(50, 'EURO')\n",
    "md = mb - ma\n",
    "assert md.amount == 40\n",
    "assert md.currency == 'EURO'"
   ]
  },
  {
   "cell_type": "code",
   "execution_count": null,
   "metadata": {
    "deletable": false,
    "editable": false,
    "nbgrader": {
     "checksum": "ec189921770fd6d354394884837dd1be",
     "grade": true,
     "grade_id": "cell-c2d199586e7c4cbb",
     "locked": true,
     "points": 0,
     "schema_version": 1,
     "solution": false
    }
   },
   "outputs": [],
   "source": [
    "#Set conversion rate\n",
    "ma = Money(100, 'SEK')\n",
    "mb = Money(50, 'EURO')\n",
    "ma.set_conversion_rate(20)\n",
    "assert ma.conversion_rate == 20\n",
    "assert mb.conversion_rate == 20"
   ]
  }
 ],
 "metadata": {
  "kernelspec": {
   "display_name": "Python 3",
   "language": "python",
   "name": "python3"
  },
  "language_info": {
   "codemirror_mode": {
    "name": "ipython",
    "version": 3
   },
   "file_extension": ".py",
   "mimetype": "text/x-python",
   "name": "python",
   "nbconvert_exporter": "python",
   "pygments_lexer": "ipython3",
   "version": "3.6.3"
  }
 },
 "nbformat": 4,
 "nbformat_minor": 2
}
